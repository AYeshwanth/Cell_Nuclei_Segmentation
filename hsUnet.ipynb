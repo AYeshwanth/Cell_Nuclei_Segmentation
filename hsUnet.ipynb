{
 "cells": [
  {
   "cell_type": "markdown",
   "metadata": {
    "_cell_guid": "e61ef2d8-f315-4f7f-b07e-1de0f4e8441a",
    "_uuid": "1677fddbb95f7545b6540e9201f3339a0fdbfc5d"
   },
   "source": [
    "####  This runs in Py35 env Default. "
   ]
  },
  {
   "cell_type": "code",
   "execution_count": 1,
   "metadata": {
    "_cell_guid": "c332549b-8d23-4bb5-8497-e7a8eb8b21d2",
    "_uuid": "5c38504af3a84bee68c66d3cde74443c58df422f"
   },
   "outputs": [
    {
     "name": "stderr",
     "output_type": "stream",
     "text": [
      "Using TensorFlow backend.\n"
     ]
    }
   ],
   "source": [
    "import os\n",
    "import sys\n",
    "import glob\n",
    "import random\n",
    "import datetime\n",
    "import warnings\n",
    "\n",
    "\n",
    "import numpy as np\n",
    "import pandas as pd\n",
    "\n",
    "import matplotlib.pyplot as plt\n",
    "\n",
    "from tqdm import tqdm\n",
    "from itertools import chain\n",
    "import skimage\n",
    "from skimage.io import imread, imshow, imread_collection, concatenate_images\n",
    "from skimage.transform import resize\n",
    "from skimage.morphology import label\n",
    "\n",
    "from sklearn.model_selection import train_test_split\n",
    "from keras.preprocessing.image import ImageDataGenerator\n",
    "\n",
    "from keras.models import Sequential\n",
    "\n",
    "from keras.models import Model, load_model\n",
    "from keras.layers import Input\n",
    "from keras.layers.core import Dropout, Lambda\n",
    "from keras.layers.convolutional import Conv2D, Conv2DTranspose\n",
    "from keras.layers.pooling import MaxPooling2D\n",
    "from keras.layers.merge import concatenate\n",
    "from keras.callbacks import EarlyStopping, ModelCheckpoint\n",
    "from keras import backend as K\n",
    "\n",
    "import tensorflow as tf"
   ]
  },
  {
   "cell_type": "code",
   "execution_count": 4,
   "metadata": {
    "collapsed": true
   },
   "outputs": [],
   "source": [
    "# Set some parameters\n",
    "IMG_WIDTH = 512 # hs original is 128\n",
    "IMG_HEIGHT = 512 # hs original is 128\n",
    "IMG_CHANNELS = 3\n",
    "TRAIN_PATH = './data/stage1_train/'\n",
    "TEST_PATH = './data/stage1_test/'\n",
    "\n",
    "warnings.filterwarnings('ignore', category=UserWarning, module='skimage')\n",
    "seed = 42"
   ]
  },
  {
   "cell_type": "code",
   "execution_count": 5,
   "metadata": {
    "_cell_guid": "ffa0caf0-2d1b-40f2-865b-8e6db88526b6",
    "_uuid": "3fb9d6530fbbd0e22e41fc4fd9fd9fc0bff027ac",
    "collapsed": true
   },
   "outputs": [],
   "source": [
    "# Get train and test IDs\n",
    "train_ids = next(os.walk(TRAIN_PATH))[1]\n",
    "test_ids = next(os.walk(TEST_PATH))[1]"
   ]
  },
  {
   "cell_type": "code",
   "execution_count": null,
   "metadata": {
    "collapsed": true
   },
   "outputs": [],
   "source": []
  },
  {
   "cell_type": "code",
   "execution_count": null,
   "metadata": {
    "collapsed": true
   },
   "outputs": [],
   "source": []
  },
  {
   "cell_type": "markdown",
   "metadata": {},
   "source": [
    "# Hs getData to add augmentation from yet another"
   ]
  },
  {
   "cell_type": "code",
   "execution_count": null,
   "metadata": {},
   "outputs": [],
   "source": [
    "%%time\n",
    "# Get training data\n",
    "def get_X_data(path, output_shape=(None, None)):\n",
    "    '''\n",
    "    Loads images from path/{id}/images/{id}.png into a numpy array\n",
    "    '''\n",
    "    img_paths = ['{0}/{1}/images/{1}.png'.format(path, id) for id in os.listdir(path)]\n",
    "    X_data = np.array([skimage.transform.resize(skimage.io.imread(path)[:,:,:3], output_shape=output_shape, mode='constant', preserve_range=True) for path in img_paths], dtype=np.uint8)  #take only 3 channels/bands\n",
    "    \n",
    "    return X_data\n",
    "\n",
    "\n",
    "X_train = get_X_data(TRAIN_PATH, output_shape=(IMG_HEIGHT,IMG_WIDTH))\n",
    "print(X_train.shape, X_train.dtype)"
   ]
  },
  {
   "cell_type": "code",
   "execution_count": 5,
   "metadata": {},
   "outputs": [
    {
     "name": "stdout",
     "output_type": "stream",
     "text": [
      "(670, 128, 128, 1) bool\n",
      "CPU times: user 38.9 s, sys: 1.03 s, total: 40 s\n",
      "Wall time: 40 s\n"
     ]
    }
   ],
   "source": [
    "%%time\n",
    "# Get training data labels\n",
    "def get_Y_data(path, output_shape=(None, None)):\n",
    "    '''\n",
    "    Loads and concatenates images from path/{id}/masks/{id}.png into a numpy array\n",
    "    '''\n",
    "    img_paths = [glob.glob('{0}/{1}/masks/*.png'.format(path, id)) for id in os.listdir(path)]\n",
    "    \n",
    "    Y_data = []\n",
    "    for i, img_masks in enumerate(img_paths):  #loop through each individual nuclei for an image and combine them together\n",
    "        masks = skimage.io.imread_collection(img_masks).concatenate()  #masks.shape = (num_masks, img_height, img_width)\n",
    "        mask = np.max(masks, axis=0)                                   #mask.shape = (img_height, img_width)\n",
    "        mask = skimage.transform.resize(mask, output_shape=output_shape+(1,), mode='constant', preserve_range=True)  #need to add an extra dimension so mask.shape = (img_height, img_width, 1)\n",
    "        Y_data.append(mask)\n",
    "    Y_data = np.array(Y_data, dtype=np.bool)\n",
    "    \n",
    "    return Y_data\n",
    "\n",
    "\n",
    "Y_train = get_Y_data(TRAIN_PATH, output_shape=(IMG_HEIGHT,IMG_WIDTH))\n",
    "print(Y_train.shape, Y_train.dtype)"
   ]
  },
  {
   "cell_type": "code",
   "execution_count": 11,
   "metadata": {},
   "outputs": [
    {
     "name": "stdout",
     "output_type": "stream",
     "text": [
      "Getting and resizing test images ... \n"
     ]
    },
    {
     "name": "stderr",
     "output_type": "stream",
     "text": [
      "100%|██████████| 65/65 [00:00<00:00, 97.96it/s] "
     ]
    },
    {
     "name": "stdout",
     "output_type": "stream",
     "text": [
      "Done!\n"
     ]
    },
    {
     "name": "stderr",
     "output_type": "stream",
     "text": [
      "\n"
     ]
    }
   ],
   "source": [
    "# Get and resize test images\n",
    "X_test = np.zeros((len(test_ids), IMG_HEIGHT, IMG_WIDTH, IMG_CHANNELS), dtype=np.uint8)\n",
    "sizes_test = []\n",
    "print('Getting and resizing test images ... ')\n",
    "sys.stdout.flush()\n",
    "for n, id_ in tqdm(enumerate(test_ids), total=len(test_ids)):\n",
    "    path = TEST_PATH + id_\n",
    "    img = imread(path + '/images/' + id_ + '.png')[:,:,:IMG_CHANNELS]\n",
    "    sizes_test.append([img.shape[0], img.shape[1]])\n",
    "    img = resize(img, (IMG_HEIGHT, IMG_WIDTH), mode='constant', preserve_range=True)\n",
    "    X_test[n] = img\n",
    "\n",
    "print('Done!')"
   ]
  },
  {
   "cell_type": "code",
   "execution_count": 6,
   "metadata": {
    "collapsed": true
   },
   "outputs": [],
   "source": [
    "# Runtime data augmentation\n",
    "def get_train_test_augmented(X_data=X_train, Y_data=Y_train, validation_split=0.25, batch_size=32, seed=seed):\n",
    "    X_train, X_test, Y_train, Y_test = train_test_split(X_data,\n",
    "                                                        Y_data,\n",
    "                                                        train_size=1-validation_split,\n",
    "                                                        test_size=validation_split,\n",
    "                                                        random_state=seed)\n",
    "    \n",
    "    # Image data generator distortion options\n",
    "    data_gen_args = dict(rotation_range=45.,\n",
    "                         width_shift_range=0.1,\n",
    "                         height_shift_range=0.1,\n",
    "                         shear_range=0.2,\n",
    "                         zoom_range=0.2,\n",
    "                         horizontal_flip=True,\n",
    "                         vertical_flip=True,\n",
    "                         fill_mode='reflect')  #use 'constant'??\n",
    "\n",
    "\n",
    "    # Train data, provide the same seed and keyword arguments to the fit and flow methods\n",
    "    X_datagen = ImageDataGenerator(**data_gen_args)\n",
    "    Y_datagen = ImageDataGenerator(**data_gen_args)\n",
    "    X_datagen.fit(X_train, augment=True, seed=seed)\n",
    "    Y_datagen.fit(Y_train, augment=True, seed=seed)\n",
    "    X_train_augmented = X_datagen.flow(X_train, batch_size=batch_size, shuffle=True, seed=seed)\n",
    "    Y_train_augmented = Y_datagen.flow(Y_train, batch_size=batch_size, shuffle=True, seed=seed)\n",
    "     \n",
    "    \n",
    "    # Test data, no data augmentation, but we create a generator anyway\n",
    "    X_datagen_val = ImageDataGenerator()\n",
    "    Y_datagen_val = ImageDataGenerator()\n",
    "    X_datagen_val.fit(X_test, augment=True, seed=seed)\n",
    "    Y_datagen_val.fit(Y_test, augment=True, seed=seed)\n",
    "    X_test_augmented = X_datagen_val.flow(X_test, batch_size=batch_size, shuffle=True, seed=seed)\n",
    "    Y_test_augmented = Y_datagen_val.flow(Y_test, batch_size=batch_size, shuffle=True, seed=seed)\n",
    "    \n",
    "    \n",
    "    # combine generators into one which yields image and masks\n",
    "    train_generator = zip(X_train_augmented, Y_train_augmented)\n",
    "    test_generator = zip(X_test_augmented, Y_test_augmented)\n",
    "    \n",
    "    return train_generator, test_generator"
   ]
  },
  {
   "cell_type": "code",
   "execution_count": null,
   "metadata": {
    "collapsed": true
   },
   "outputs": [],
   "source": []
  },
  {
   "cell_type": "code",
   "execution_count": null,
   "metadata": {
    "collapsed": true
   },
   "outputs": [],
   "source": []
  },
  {
   "cell_type": "markdown",
   "metadata": {
    "_cell_guid": "59c4a25d-645f-4b74-9c53-145ac78cc481",
    "_uuid": "875af74f980236825de3a650825b46e25632422c"
   },
   "source": [
    "# Get the data\n",
    "Let's first import all the images and associated masks. I downsample both the training and test images to keep things light and manageable, but we need to keep a record of the original sizes of the test images to upsample our predicted masks and create correct run-length encodings later on. There are definitely better ways to handle this, but it works fine for now!"
   ]
  },
  {
   "cell_type": "code",
   "execution_count": 4,
   "metadata": {
    "_cell_guid": "ca0cc34b-c26f-41ee-88d7-975aebdb634e",
    "_uuid": "9e389ba8bdb5b6fc03b231b6a6c84a8bde634053"
   },
   "outputs": [
    {
     "name": "stdout",
     "output_type": "stream",
     "text": [
      "Getting and resizing train images and masks ... \n"
     ]
    },
    {
     "name": "stderr",
     "output_type": "stream",
     "text": [
      "100%|██████████| 670/670 [05:12<00:00,  2.14it/s]"
     ]
    },
    {
     "name": "stdout",
     "output_type": "stream",
     "text": [
      "Getting and resizing test images ... \n"
     ]
    },
    {
     "name": "stderr",
     "output_type": "stream",
     "text": [
      "\n",
      "100%|██████████| 65/65 [00:02<00:00, 28.77it/s]"
     ]
    },
    {
     "name": "stdout",
     "output_type": "stream",
     "text": [
      "Done!\n"
     ]
    },
    {
     "name": "stderr",
     "output_type": "stream",
     "text": [
      "\n"
     ]
    }
   ],
   "source": [
    "# Get and resize train images and masks\n",
    "X_train = np.zeros((len(train_ids), IMG_HEIGHT, IMG_WIDTH, IMG_CHANNELS), dtype=np.uint8)\n",
    "Y_train = np.zeros((len(train_ids), IMG_HEIGHT, IMG_WIDTH, 1), dtype=np.bool)\n",
    "print('Getting and resizing train images and masks ... ')\n",
    "sys.stdout.flush()\n",
    "for n, id_ in tqdm(enumerate(train_ids), total=len(train_ids)):\n",
    "    path = TRAIN_PATH + id_\n",
    "    img = imread(path + '/images/' + id_ + '.png')[:,:,:IMG_CHANNELS]\n",
    "    img = resize(img, (IMG_HEIGHT, IMG_WIDTH), mode='constant', preserve_range=True)\n",
    "    X_train[n] = img\n",
    "    mask = np.zeros((IMG_HEIGHT, IMG_WIDTH, 1), dtype=np.bool)\n",
    "    for mask_file in next(os.walk(path + '/masks/'))[2]:\n",
    "        mask_ = imread(path + '/masks/' + mask_file)\n",
    "        mask_ = np.expand_dims(resize(mask_, (IMG_HEIGHT, IMG_WIDTH), mode='constant', \n",
    "                                      preserve_range=True), axis=-1)\n",
    "        mask = np.maximum(mask, mask_)\n",
    "    Y_train[n] = mask  \n",
    "    \n",
    "\n",
    "# Get and resize test images\n",
    "X_test = np.zeros((len(test_ids), IMG_HEIGHT, IMG_WIDTH, IMG_CHANNELS), dtype=np.uint8)\n",
    "sizes_test = []\n",
    "\n",
    "print('Getting and resizing test images ... ')\n",
    "sys.stdout.flush()\n",
    "\n",
    "for n, id_ in tqdm(enumerate(test_ids), total=len(test_ids)):\n",
    "    path = TEST_PATH + id_\n",
    "    img = imread(path + '/images/' + id_ + '.png')[:,:,:IMG_CHANNELS]\n",
    "    \n",
    "    # keep track of original image sizes\n",
    "    sizes_test.append([img.shape[0], img.shape[1]])\n",
    "    \n",
    "    #downsample the image\n",
    "    img = resize(img, (IMG_HEIGHT, IMG_WIDTH), mode='constant', preserve_range=True)\n",
    "    \n",
    "    X_test[n] = img\n",
    "\n",
    "print('Done!')"
   ]
  },
  {
   "cell_type": "markdown",
   "metadata": {
    "_cell_guid": "c0523b03-1fc5-4505-a1b8-eb35ee617c8a",
    "_uuid": "d4f8327802a1ec6139ce0585953986272ba62ce1"
   },
   "source": [
    "Let's see if things look all right by drawing some random images and their associated masks."
   ]
  },
  {
   "cell_type": "code",
   "execution_count": 5,
   "metadata": {
    "_cell_guid": "88829b53-50ce-45d9-9540-77dd7384ad4c",
    "_uuid": "283af26f0860b7069bdfd133c746e5d20971542c"
   },
   "outputs": [
    {
     "data": {
      "image/png": "[encoded data removed]",
      "text/plain": [
       "<matplotlib.figure.Figure at 0x7ffa34d526a0>"
      ]
     },
     "metadata": {},
     "output_type": "display_data"
    },
    {
     "data": {
      "image/png": "[encoded data removed]",
      "text/plain": [
       "<matplotlib.figure.Figure at 0x7ff9b43a90b8>"
      ]
     },
     "metadata": {},
     "output_type": "display_data"
    }
   ],
   "source": [
    "# Check if training data looks all right\n",
    "ix = random.randint(0, len(train_ids))\n",
    "imshow(X_train[ix])\n",
    "plt.show()\n",
    "imshow(np.squeeze(Y_train[ix]))\n",
    "plt.show()"
   ]
  },
  {
   "cell_type": "markdown",
   "metadata": {
    "_cell_guid": "2574ffe9-b911-4bfd-a00f-9ba5c25f45de",
    "_uuid": "938648da705689a0f940ff462477c801db3f0737"
   },
   "source": [
    "Seems good!\n",
    "\n",
    "# Create our Keras metric\n",
    "\n",
    "Now we try to define the *mean average precision at different intersection over union (IoU) thresholds* metric in Keras. TensorFlow has a mean IoU metric, but it doesn't have any native support for the mean over multiple thresholds, so I tried to implement this. **I'm by no means certain that this implementation is correct, though!** Any assistance in verifying this would be most welcome! \n",
    "\n",
    "*Update: This implementation is most definitely not correct due to the very large discrepancy between the results reported here and the LB results. It also seems to just increase over time no matter what when you train ... *\n",
    "\n",
    "<font color=red>HS update: Yet another uses the exact same mean_iou so it might be correct after all</font>"
   ]
  },
  {
   "cell_type": "code",
   "execution_count": 2,
   "metadata": {
    "_cell_guid": "c1df6f3a-d58f-434b-9216-ef7be38637d4",
    "_uuid": "5abd38950ae99b60f8afec7656eb654a48d449fe",
    "collapsed": true
   },
   "outputs": [],
   "source": [
    "# Define IoU metric\n",
    "def mean_iou(y_true, y_pred):\n",
    "    prec = []\n",
    "    for t in np.arange(0.5, 1.0, 0.05):\n",
    "        y_pred_ = tf.to_int32(y_pred > t)\n",
    "        score, up_opt = tf.metrics.mean_iou(y_true, y_pred_, 2)\n",
    "        K.get_session().run(tf.local_variables_initializer())\n",
    "        with tf.control_dependencies([up_opt]):\n",
    "            score = tf.identity(score)\n",
    "        prec.append(score)\n",
    "    return K.mean(K.stack(prec), axis=0)"
   ]
  },
  {
   "cell_type": "code",
   "execution_count": null,
   "metadata": {
    "collapsed": true
   },
   "outputs": [],
   "source": []
  },
  {
   "cell_type": "markdown",
   "metadata": {
    "_cell_guid": "c3b9f148-1dba-4b6a-981b-6cdbf394fc3c",
    "_uuid": "986488a4c5223576be370e224426a30431911eb2"
   },
   "source": [
    "# Build and train our neural network\n",
    "Next we build our U-Net model, loosely based on [U-Net: Convolutional Networks for Biomedical Image Segmentation](https://arxiv.org/pdf/1505.04597.pdf) and very similar to [this repo](https://github.com/jocicmarko/ultrasound-nerve-segmentation) from the Kaggle Ultrasound Nerve Segmentation competition.\n",
    "\n",
    "![](https://lmb.informatik.uni-freiburg.de/people/ronneber/u-net/u-net-architecture.png)"
   ]
  },
  {
   "cell_type": "markdown",
   "metadata": {},
   "source": [
    "## hs my u-net 512*512"
   ]
  },
  {
   "cell_type": "code",
   "execution_count": 6,
   "metadata": {},
   "outputs": [
    {
     "name": "stdout",
     "output_type": "stream",
     "text": [
      "__________________________________________________________________________________________________\n",
      "Layer (type)                    Output Shape         Param #     Connected to                     \n",
      "==================================================================================================\n",
      "input_1 (InputLayer)            (None, 512, 512, 3)  0                                            \n",
      "__________________________________________________________________________________________________\n",
      "lambda_1 (Lambda)               (None, 512, 512, 3)  0           input_1[0][0]                    \n",
      "__________________________________________________________________________________________________\n",
      "conv2d_1 (Conv2D)               (None, 512, 512, 16) 448         lambda_1[0][0]                   \n",
      "__________________________________________________________________________________________________\n",
      "dropout_1 (Dropout)             (None, 512, 512, 16) 0           conv2d_1[0][0]                   \n",
      "__________________________________________________________________________________________________\n",
      "conv2d_2 (Conv2D)               (None, 512, 512, 16) 2320        dropout_1[0][0]                  \n",
      "__________________________________________________________________________________________________\n",
      "max_pooling2d_1 (MaxPooling2D)  (None, 256, 256, 16) 0           conv2d_2[0][0]                   \n",
      "__________________________________________________________________________________________________\n",
      "conv2d_3 (Conv2D)               (None, 256, 256, 32) 4640        max_pooling2d_1[0][0]            \n",
      "__________________________________________________________________________________________________\n",
      "dropout_2 (Dropout)             (None, 256, 256, 32) 0           conv2d_3[0][0]                   \n",
      "__________________________________________________________________________________________________\n",
      "conv2d_4 (Conv2D)               (None, 256, 256, 32) 9248        dropout_2[0][0]                  \n",
      "__________________________________________________________________________________________________\n",
      "max_pooling2d_2 (MaxPooling2D)  (None, 128, 128, 32) 0           conv2d_4[0][0]                   \n",
      "__________________________________________________________________________________________________\n",
      "conv2d_5 (Conv2D)               (None, 128, 128, 64) 18496       max_pooling2d_2[0][0]            \n",
      "__________________________________________________________________________________________________\n",
      "dropout_3 (Dropout)             (None, 128, 128, 64) 0           conv2d_5[0][0]                   \n",
      "__________________________________________________________________________________________________\n",
      "conv2d_6 (Conv2D)               (None, 128, 128, 64) 36928       dropout_3[0][0]                  \n",
      "__________________________________________________________________________________________________\n",
      "max_pooling2d_3 (MaxPooling2D)  (None, 64, 64, 64)   0           conv2d_6[0][0]                   \n",
      "__________________________________________________________________________________________________\n",
      "conv2d_7 (Conv2D)               (None, 64, 64, 128)  73856       max_pooling2d_3[0][0]            \n",
      "__________________________________________________________________________________________________\n",
      "dropout_4 (Dropout)             (None, 64, 64, 128)  0           conv2d_7[0][0]                   \n",
      "__________________________________________________________________________________________________\n",
      "conv2d_8 (Conv2D)               (None, 64, 64, 128)  147584      dropout_4[0][0]                  \n",
      "__________________________________________________________________________________________________\n",
      "max_pooling2d_4 (MaxPooling2D)  (None, 32, 32, 128)  0           conv2d_8[0][0]                   \n",
      "__________________________________________________________________________________________________\n",
      "conv2d_9 (Conv2D)               (None, 32, 32, 256)  295168      max_pooling2d_4[0][0]            \n",
      "__________________________________________________________________________________________________\n",
      "dropout_5 (Dropout)             (None, 32, 32, 256)  0           conv2d_9[0][0]                   \n",
      "__________________________________________________________________________________________________\n",
      "conv2d_10 (Conv2D)              (None, 32, 32, 256)  590080      dropout_5[0][0]                  \n",
      "__________________________________________________________________________________________________\n",
      "max_pooling2d_5 (MaxPooling2D)  (None, 16, 16, 256)  0           conv2d_10[0][0]                  \n",
      "__________________________________________________________________________________________________\n",
      "conv2d_11 (Conv2D)              (None, 16, 16, 512)  1180160     max_pooling2d_5[0][0]            \n",
      "__________________________________________________________________________________________________\n",
      "dropout_6 (Dropout)             (None, 16, 16, 512)  0           conv2d_11[0][0]                  \n",
      "__________________________________________________________________________________________________\n",
      "conv2d_12 (Conv2D)              (None, 16, 16, 512)  2359808     dropout_6[0][0]                  \n",
      "__________________________________________________________________________________________________\n",
      "max_pooling2d_6 (MaxPooling2D)  (None, 8, 8, 512)    0           conv2d_12[0][0]                  \n",
      "__________________________________________________________________________________________________\n",
      "conv2d_13 (Conv2D)              (None, 8, 8, 1024)   4719616     max_pooling2d_6[0][0]            \n",
      "__________________________________________________________________________________________________\n",
      "dropout_7 (Dropout)             (None, 8, 8, 1024)   0           conv2d_13[0][0]                  \n",
      "__________________________________________________________________________________________________\n",
      "conv2d_14 (Conv2D)              (None, 8, 8, 1024)   9438208     dropout_7[0][0]                  \n",
      "__________________________________________________________________________________________________\n",
      "conv2d_transpose_1 (Conv2DTrans (None, 16, 16, 512)  2097664     conv2d_14[0][0]                  \n",
      "__________________________________________________________________________________________________\n",
      "concatenate_1 (Concatenate)     (None, 16, 16, 1024) 0           conv2d_transpose_1[0][0]         \n",
      "                                                                 conv2d_12[0][0]                  \n",
      "__________________________________________________________________________________________________\n",
      "conv2d_15 (Conv2D)              (None, 16, 16, 512)  4719104     concatenate_1[0][0]              \n",
      "__________________________________________________________________________________________________\n",
      "dropout_8 (Dropout)             (None, 16, 16, 512)  0           conv2d_15[0][0]                  \n",
      "__________________________________________________________________________________________________\n",
      "conv2d_16 (Conv2D)              (None, 16, 16, 512)  2359808     dropout_8[0][0]                  \n",
      "__________________________________________________________________________________________________\n",
      "conv2d_transpose_2 (Conv2DTrans (None, 32, 32, 256)  524544      conv2d_16[0][0]                  \n",
      "__________________________________________________________________________________________________\n",
      "concatenate_2 (Concatenate)     (None, 32, 32, 512)  0           conv2d_transpose_2[0][0]         \n",
      "                                                                 conv2d_10[0][0]                  \n",
      "__________________________________________________________________________________________________\n",
      "conv2d_17 (Conv2D)              (None, 32, 32, 256)  1179904     concatenate_2[0][0]              \n",
      "__________________________________________________________________________________________________\n",
      "dropout_9 (Dropout)             (None, 32, 32, 256)  0           conv2d_17[0][0]                  \n",
      "__________________________________________________________________________________________________\n",
      "conv2d_18 (Conv2D)              (None, 32, 32, 256)  590080      dropout_9[0][0]                  \n",
      "__________________________________________________________________________________________________\n",
      "conv2d_transpose_3 (Conv2DTrans (None, 64, 64, 128)  131200      conv2d_18[0][0]                  \n",
      "__________________________________________________________________________________________________\n",
      "concatenate_3 (Concatenate)     (None, 64, 64, 256)  0           conv2d_transpose_3[0][0]         \n",
      "                                                                 conv2d_8[0][0]                   \n",
      "__________________________________________________________________________________________________\n",
      "conv2d_19 (Conv2D)              (None, 64, 64, 128)  295040      concatenate_3[0][0]              \n",
      "__________________________________________________________________________________________________\n",
      "dropout_10 (Dropout)            (None, 64, 64, 128)  0           conv2d_19[0][0]                  \n",
      "__________________________________________________________________________________________________\n",
      "conv2d_20 (Conv2D)              (None, 64, 64, 128)  147584      dropout_10[0][0]                 \n",
      "__________________________________________________________________________________________________\n",
      "conv2d_transpose_4 (Conv2DTrans (None, 128, 128, 64) 32832       conv2d_20[0][0]                  \n",
      "__________________________________________________________________________________________________\n",
      "concatenate_4 (Concatenate)     (None, 128, 128, 128 0           conv2d_transpose_4[0][0]         \n",
      "                                                                 conv2d_6[0][0]                   \n",
      "__________________________________________________________________________________________________\n",
      "conv2d_21 (Conv2D)              (None, 128, 128, 64) 73792       concatenate_4[0][0]              \n",
      "__________________________________________________________________________________________________\n",
      "dropout_11 (Dropout)            (None, 128, 128, 64) 0           conv2d_21[0][0]                  \n",
      "__________________________________________________________________________________________________\n",
      "conv2d_22 (Conv2D)              (None, 128, 128, 64) 36928       dropout_11[0][0]                 \n",
      "__________________________________________________________________________________________________\n",
      "conv2d_transpose_5 (Conv2DTrans (None, 256, 256, 32) 8224        conv2d_22[0][0]                  \n",
      "__________________________________________________________________________________________________\n",
      "concatenate_5 (Concatenate)     (None, 256, 256, 64) 0           conv2d_transpose_5[0][0]         \n",
      "                                                                 conv2d_4[0][0]                   \n",
      "__________________________________________________________________________________________________\n",
      "conv2d_23 (Conv2D)              (None, 256, 256, 32) 18464       concatenate_5[0][0]              \n",
      "__________________________________________________________________________________________________\n",
      "dropout_12 (Dropout)            (None, 256, 256, 32) 0           conv2d_23[0][0]                  \n",
      "__________________________________________________________________________________________________\n",
      "conv2d_24 (Conv2D)              (None, 256, 256, 32) 9248        dropout_12[0][0]                 \n",
      "__________________________________________________________________________________________________\n",
      "conv2d_transpose_6 (Conv2DTrans (None, 512, 512, 16) 2064        conv2d_24[0][0]                  \n",
      "__________________________________________________________________________________________________\n",
      "concatenate_6 (Concatenate)     (None, 512, 512, 32) 0           conv2d_transpose_6[0][0]         \n",
      "                                                                 conv2d_2[0][0]                   \n",
      "__________________________________________________________________________________________________\n",
      "conv2d_25 (Conv2D)              (None, 512, 512, 16) 4624        concatenate_6[0][0]              \n",
      "__________________________________________________________________________________________________\n",
      "dropout_13 (Dropout)            (None, 512, 512, 16) 0           conv2d_25[0][0]                  \n",
      "__________________________________________________________________________________________________\n",
      "conv2d_26 (Conv2D)              (None, 512, 512, 16) 2320        dropout_13[0][0]                 \n",
      "__________________________________________________________________________________________________\n",
      "conv2d_27 (Conv2D)              (None, 512, 512, 1)  17          conv2d_26[0][0]                  \n",
      "==================================================================================================\n",
      "Total params: 31,110,001\n",
      "Trainable params: 31,110,001\n",
      "Non-trainable params: 0\n",
      "__________________________________________________________________________________________________\n"
     ]
    }
   ],
   "source": [
    "# Build U-Net model\n",
    "inputs = Input((IMG_HEIGHT, IMG_WIDTH, IMG_CHANNELS))\n",
    "#(None, 512, 512, 3)\n",
    "\n",
    "s = Lambda(lambda x: x / 255) (inputs)\n",
    "#(None, 512, 512, 3)\n",
    "\n",
    "\n",
    "\n",
    "c1 = Conv2D(16, (3, 3), activation='elu', kernel_initializer='he_normal', padding='same') (s)\n",
    "#(None, 512, 512, 16)\n",
    "\n",
    "c1 = Dropout(0.1) (c1)\n",
    "#(None, 512, 512, 16)\n",
    "\n",
    "c1 = Conv2D(16, (3, 3), activation='elu', kernel_initializer='he_normal', padding='same') (c1)\n",
    "#(None, 512, 512, 16)\n",
    "\n",
    "p1 = MaxPooling2D((2, 2)) (c1)\n",
    "#(None, 256, 256, 16) \n",
    "\n",
    "\n",
    "\n",
    "c2 = Conv2D(32, (3, 3), activation='elu', kernel_initializer='he_normal', padding='same') (p1)\n",
    "#(None, 256, 256, 32)\n",
    "\n",
    "c2 = Dropout(0.1) (c2)\n",
    "#(None, 256, 256, 32)\n",
    "\n",
    "c2 = Conv2D(32, (3, 3), activation='elu', kernel_initializer='he_normal', padding='same') (c2)\n",
    "#(None, 256, 256, 32)\n",
    "\n",
    "p2 = MaxPooling2D((2, 2)) (c2)\n",
    "#(None, 128, 128, 32)\n",
    "\n",
    "\n",
    "\n",
    "c3 = Conv2D(64, (3, 3), activation='elu', kernel_initializer='he_normal', padding='same') (p2)\n",
    "#(None, 128, 128, 64)\n",
    "\n",
    "c3 = Dropout(0.2) (c3)\n",
    "#(None, 128, 128, 64)\n",
    "\n",
    "c3 = Conv2D(64, (3, 3), activation='elu', kernel_initializer='he_normal', padding='same') (c3)\n",
    "#(None, 128, 128, 64)\n",
    "\n",
    "p3 = MaxPooling2D((2, 2)) (c3)\n",
    "#(None, 64, 64, 64)\n",
    "\n",
    "\n",
    "\n",
    "c4 = Conv2D(128, (3, 3), activation='elu', kernel_initializer='he_normal', padding='same') (p3)\n",
    "#(None, 64, 64, 128)\n",
    "\n",
    "c4 = Dropout(0.2) (c4)\n",
    "#(None, 64, 64, 128)\n",
    "\n",
    "c4 = Conv2D(128, (3, 3), activation='elu', kernel_initializer='he_normal', padding='same') (c4)\n",
    "#(None, 64, 64, 128)\n",
    "\n",
    "p4 = MaxPooling2D(pool_size=(2, 2)) (c4)\n",
    "#(None, 32, 32, 128)\n",
    "\n",
    "\n",
    "\n",
    "\n",
    "#hs 1 adding new layers here\n",
    "c5 = Conv2D(256, (3, 3), activation='elu', kernel_initializer='he_normal', padding='same') (p4)\n",
    "#(None, 32, 32, 256)\n",
    "\n",
    "c5 = Dropout(0.2) (c5)\n",
    "#(None, 32, 32, 256)\n",
    "\n",
    "c5 = Conv2D(256, (3, 3), activation='elu', kernel_initializer='he_normal', padding='same') (c5)\n",
    "#(None, 32, 32, 256)\n",
    "\n",
    "p5 = MaxPooling2D(pool_size=(2, 2)) (c5)\n",
    "#(None, 16, 16, 256)\n",
    "\n",
    "\n",
    "\n",
    "#hs 2 adding new layers here\n",
    "c6 = Conv2D(512, (3, 3), activation='elu', kernel_initializer='he_normal', padding='same') (p5)\n",
    "#(None, 16, 16, 512)\n",
    "\n",
    "c6 = Dropout(0.2) (c6)\n",
    "#(None, 16, 16, 512)\n",
    "\n",
    "c6 = Conv2D(512, (3, 3), activation='elu', kernel_initializer='he_normal', padding='same') (c6)\n",
    "#(None, 16, 16, 512)\n",
    "\n",
    "p6 = MaxPooling2D(pool_size=(2, 2)) (c6)\n",
    "#(None, 8, 8, 512)\n",
    "\n",
    "\n",
    "\n",
    "# hs 4 must change c5 to c7 and 256 to 1024\n",
    "c7 = Conv2D(1024, (3, 3), activation='elu', kernel_initializer='he_normal', padding='same') (p6)\n",
    "#(None, 8, 8, 1024)\n",
    "\n",
    "c7 = Dropout(0.3) (c7)\n",
    "#(None, 8, 8, 1024)\n",
    "\n",
    "c7 = Conv2D(1024, (3, 3), activation='elu', kernel_initializer='he_normal', padding='same') (c7)\n",
    "#(None, 8, 8, 1024)\n",
    "\n",
    "\n",
    "\n",
    "\n",
    "\n",
    "\n",
    "\n",
    "# hs 5 must change u6 to u8 and 128 to 512\n",
    "u8 = Conv2DTranspose(512, (2, 2), strides=(2, 2), padding='same') (c7)\n",
    "#(None, 16, 16, 512)\n",
    "\n",
    "u8 = concatenate([u8, c6]) #change c4 to c6\n",
    "#(None, 16, 16, 1024)\n",
    "\n",
    "c8 = Conv2D(512, (3, 3), activation='elu', kernel_initializer='he_normal', padding='same') (u8)\n",
    "#(None, 16, 16, 512) \n",
    "\n",
    "c8 = Dropout(0.2) (c8)\n",
    "#(None, 16, 16, 512)\n",
    "\n",
    "c8 = Conv2D(512, (3, 3), activation='elu', kernel_initializer='he_normal', padding='same') (c8)\n",
    "#(None, 16, 16, 512)\n",
    "\n",
    "\n",
    "\n",
    "# hs 6 must change u7 to u9 and 64 to 256\n",
    "u9 = Conv2DTranspose(256, (2, 2), strides=(2, 2), padding='same') (c8)\n",
    "#(None, 32, 32, 64)\n",
    "\n",
    "u9 = concatenate([u9, c5]) #change c3 to c5\n",
    "#(None, 32, 32, 512)\n",
    "\n",
    "c9 = Conv2D(256, (3, 3), activation='elu', kernel_initializer='he_normal', padding='same') (u9)\n",
    "#(None, 32, 32, 256) \n",
    "\n",
    "c9 = Dropout(0.2) (c9)\n",
    "#(None, 32, 32, 256)\n",
    "\n",
    "c9 = Conv2D(256, (3, 3), activation='elu', kernel_initializer='he_normal', padding='same') (c9)\n",
    "#(None, 32, 32, 256)\n",
    "\n",
    "\n",
    "\n",
    "# hs 7 must change u8 to u10 and 32 to 128\n",
    "u10 = Conv2DTranspose(128, (2, 2), strides=(2, 2), padding='same') (c9)\n",
    "#(None, 64, 64, 128)\n",
    "\n",
    "u10 = concatenate([u10, c4])  #change c2 to c4\n",
    "#(None, 64, 64, 256)\n",
    "\n",
    "c10 = Conv2D(128, (3, 3), activation='elu', kernel_initializer='he_normal', padding='same') (u10)\n",
    "#(None, 64, 64, 128)\n",
    "\n",
    "c10 = Dropout(0.1) (c10)\n",
    "#(None, 64, 64, 128)\n",
    "\n",
    "c10 = Conv2D(128, (3, 3), activation='elu', kernel_initializer='he_normal', padding='same') (c10)\n",
    "#(None, 64, 64, 128)\n",
    "\n",
    "\n",
    "\n",
    "# hs 8 must change u9 to u11 and 16 to 64\n",
    "u11 = Conv2DTranspose(64, (2, 2), strides=(2, 2), padding='same') (c10)\n",
    "#(None, 128, 128, 64)\n",
    "\n",
    "u11 = concatenate([u11, c3], axis=3) #change c1 to c3\n",
    "#(None, 128, 128, 128)\n",
    "\n",
    "c11 = Conv2D(64, (3, 3), activation='elu', kernel_initializer='he_normal', padding='same') (u11)\n",
    "#(None, 128, 128, 64)\n",
    "\n",
    "c11 = Dropout(0.1) (c11)\n",
    "#(None, 128, 128, 64)\n",
    "\n",
    "c11 = Conv2D(64, (3, 3), activation='elu', kernel_initializer='he_normal', padding='same') (c11)\n",
    "#(None, 128, 128, 64)\n",
    "\n",
    "\n",
    "\n",
    "# hs 9 must change u11 to u12 and 8 to 32\n",
    "u12 = Conv2DTranspose(32, (2, 2), strides=(2, 2), padding='same') (c11)\n",
    "#(None, 128, 128, 32)\n",
    "\n",
    "u12 = concatenate([u12, c2], axis=3) #change c0 to c2\n",
    "#(None, 128, 128, 64)\n",
    "\n",
    "c12 = Conv2D(32, (3, 3), activation='elu', kernel_initializer='he_normal', padding='same') (u12)\n",
    "#(None, 128, 128, 32)\n",
    "\n",
    "c12 = Dropout(0.1) (c12)\n",
    "#(None, 128, 128, 32)\n",
    "\n",
    "c12 = Conv2D(32, (3, 3), activation='elu', kernel_initializer='he_normal', padding='same') (c12)\n",
    "#(None, 128, 128, 32)\n",
    "\n",
    "\n",
    "\n",
    "# hs 10 must change u11 to u13 and leave this at 16\n",
    "u13 = Conv2DTranspose(16, (2, 2), strides=(2, 2), padding='same') (c12)\n",
    "#(None, 128, 128, 16)\n",
    "\n",
    "u13 = concatenate([u13, c1], axis=3) #change c-1 to c1\n",
    "#(None, 128, 128, 32)\n",
    "\n",
    "c13 = Conv2D(16, (3, 3), activation='elu', kernel_initializer='he_normal', padding='same') (u13)\n",
    "#(None, 128, 128, 16)\n",
    "\n",
    "c13 = Dropout(0.1) (c13)\n",
    "#(None, 128, 128, 16)\n",
    "\n",
    "c13 = Conv2D(16, (3, 3), activation='elu', kernel_initializer='he_normal', padding='same') (c13)\n",
    "#(None, 128, 128, 16)\n",
    "\n",
    "\n",
    "\n",
    "\n",
    "outputs = Conv2D(1, (1, 1), activation='sigmoid') (c13)\n",
    "#(None, 128, 128, 1)\n",
    "\n",
    "\n",
    "model = Model(inputs=[inputs], outputs=[outputs])\n",
    "model.compile(optimizer='adam', loss='binary_crossentropy', metrics=[mean_iou])\n",
    "model.summary()"
   ]
  },
  {
   "cell_type": "code",
   "execution_count": 7,
   "metadata": {
    "collapsed": true
   },
   "outputs": [],
   "source": [
    "from keras.utils import plot_model\n",
    "plot_model(model, to_file='uNet_hs512Version.png')"
   ]
  },
  {
   "cell_type": "markdown",
   "metadata": {},
   "source": [
    "## hs original u-net 128*128"
   ]
  },
  {
   "cell_type": "code",
   "execution_count": 8,
   "metadata": {
    "_cell_guid": "c1dbc57c-b497-4ccb-b077-2053203ab7ed",
    "_uuid": "0aa97d66c29f45dfac9b0f45fcf74ba0e778ba5d"
   },
   "outputs": [
    {
     "name": "stdout",
     "output_type": "stream",
     "text": [
      "__________________________________________________________________________________________________\n",
      "Layer (type)                    Output Shape         Param #     Connected to                     \n",
      "==================================================================================================\n",
      "input_2 (InputLayer)            (None, 512, 512, 3)  0                                            \n",
      "__________________________________________________________________________________________________\n",
      "lambda_2 (Lambda)               (None, 512, 512, 3)  0           input_2[0][0]                    \n",
      "__________________________________________________________________________________________________\n",
      "conv2d_28 (Conv2D)              (None, 512, 512, 16) 448         lambda_2[0][0]                   \n",
      "__________________________________________________________________________________________________\n",
      "dropout_14 (Dropout)            (None, 512, 512, 16) 0           conv2d_28[0][0]                  \n",
      "__________________________________________________________________________________________________\n",
      "conv2d_29 (Conv2D)              (None, 512, 512, 16) 2320        dropout_14[0][0]                 \n",
      "__________________________________________________________________________________________________\n",
      "max_pooling2d_7 (MaxPooling2D)  (None, 256, 256, 16) 0           conv2d_29[0][0]                  \n",
      "__________________________________________________________________________________________________\n",
      "conv2d_30 (Conv2D)              (None, 256, 256, 32) 4640        max_pooling2d_7[0][0]            \n",
      "__________________________________________________________________________________________________\n",
      "dropout_15 (Dropout)            (None, 256, 256, 32) 0           conv2d_30[0][0]                  \n",
      "__________________________________________________________________________________________________\n",
      "conv2d_31 (Conv2D)              (None, 256, 256, 32) 9248        dropout_15[0][0]                 \n",
      "__________________________________________________________________________________________________\n",
      "max_pooling2d_8 (MaxPooling2D)  (None, 128, 128, 32) 0           conv2d_31[0][0]                  \n",
      "__________________________________________________________________________________________________\n",
      "conv2d_32 (Conv2D)              (None, 128, 128, 64) 18496       max_pooling2d_8[0][0]            \n",
      "__________________________________________________________________________________________________\n",
      "dropout_16 (Dropout)            (None, 128, 128, 64) 0           conv2d_32[0][0]                  \n",
      "__________________________________________________________________________________________________\n",
      "conv2d_33 (Conv2D)              (None, 128, 128, 64) 36928       dropout_16[0][0]                 \n",
      "__________________________________________________________________________________________________\n",
      "max_pooling2d_9 (MaxPooling2D)  (None, 64, 64, 64)   0           conv2d_33[0][0]                  \n",
      "__________________________________________________________________________________________________\n",
      "conv2d_34 (Conv2D)              (None, 64, 64, 128)  73856       max_pooling2d_9[0][0]            \n",
      "__________________________________________________________________________________________________\n",
      "dropout_17 (Dropout)            (None, 64, 64, 128)  0           conv2d_34[0][0]                  \n",
      "__________________________________________________________________________________________________\n",
      "conv2d_35 (Conv2D)              (None, 64, 64, 128)  147584      dropout_17[0][0]                 \n",
      "__________________________________________________________________________________________________\n",
      "max_pooling2d_10 (MaxPooling2D) (None, 32, 32, 128)  0           conv2d_35[0][0]                  \n",
      "__________________________________________________________________________________________________\n",
      "conv2d_36 (Conv2D)              (None, 32, 32, 256)  295168      max_pooling2d_10[0][0]           \n",
      "__________________________________________________________________________________________________\n",
      "dropout_18 (Dropout)            (None, 32, 32, 256)  0           conv2d_36[0][0]                  \n",
      "__________________________________________________________________________________________________\n",
      "conv2d_37 (Conv2D)              (None, 32, 32, 256)  590080      dropout_18[0][0]                 \n",
      "__________________________________________________________________________________________________\n",
      "conv2d_transpose_7 (Conv2DTrans (None, 64, 64, 128)  131200      conv2d_37[0][0]                  \n",
      "__________________________________________________________________________________________________\n",
      "concatenate_7 (Concatenate)     (None, 64, 64, 256)  0           conv2d_transpose_7[0][0]         \n",
      "                                                                 conv2d_35[0][0]                  \n",
      "__________________________________________________________________________________________________\n",
      "conv2d_38 (Conv2D)              (None, 64, 64, 128)  295040      concatenate_7[0][0]              \n",
      "__________________________________________________________________________________________________\n",
      "dropout_19 (Dropout)            (None, 64, 64, 128)  0           conv2d_38[0][0]                  \n",
      "__________________________________________________________________________________________________\n",
      "conv2d_39 (Conv2D)              (None, 64, 64, 128)  147584      dropout_19[0][0]                 \n",
      "__________________________________________________________________________________________________\n",
      "conv2d_transpose_8 (Conv2DTrans (None, 128, 128, 64) 32832       conv2d_39[0][0]                  \n",
      "__________________________________________________________________________________________________\n",
      "concatenate_8 (Concatenate)     (None, 128, 128, 128 0           conv2d_transpose_8[0][0]         \n",
      "                                                                 conv2d_33[0][0]                  \n",
      "__________________________________________________________________________________________________\n",
      "conv2d_40 (Conv2D)              (None, 128, 128, 64) 73792       concatenate_8[0][0]              \n",
      "__________________________________________________________________________________________________\n",
      "dropout_20 (Dropout)            (None, 128, 128, 64) 0           conv2d_40[0][0]                  \n",
      "__________________________________________________________________________________________________\n",
      "conv2d_41 (Conv2D)              (None, 128, 128, 64) 36928       dropout_20[0][0]                 \n",
      "__________________________________________________________________________________________________\n",
      "conv2d_transpose_9 (Conv2DTrans (None, 256, 256, 32) 8224        conv2d_41[0][0]                  \n",
      "__________________________________________________________________________________________________\n",
      "concatenate_9 (Concatenate)     (None, 256, 256, 64) 0           conv2d_transpose_9[0][0]         \n",
      "                                                                 conv2d_31[0][0]                  \n",
      "__________________________________________________________________________________________________\n",
      "conv2d_42 (Conv2D)              (None, 256, 256, 32) 18464       concatenate_9[0][0]              \n",
      "__________________________________________________________________________________________________\n",
      "dropout_21 (Dropout)            (None, 256, 256, 32) 0           conv2d_42[0][0]                  \n",
      "__________________________________________________________________________________________________\n",
      "conv2d_43 (Conv2D)              (None, 256, 256, 32) 9248        dropout_21[0][0]                 \n",
      "__________________________________________________________________________________________________\n",
      "conv2d_transpose_10 (Conv2DTran (None, 512, 512, 16) 2064        conv2d_43[0][0]                  \n",
      "__________________________________________________________________________________________________\n",
      "concatenate_10 (Concatenate)    (None, 512, 512, 32) 0           conv2d_transpose_10[0][0]        \n",
      "                                                                 conv2d_29[0][0]                  \n",
      "__________________________________________________________________________________________________\n",
      "conv2d_44 (Conv2D)              (None, 512, 512, 16) 4624        concatenate_10[0][0]             \n",
      "__________________________________________________________________________________________________\n",
      "dropout_22 (Dropout)            (None, 512, 512, 16) 0           conv2d_44[0][0]                  \n",
      "__________________________________________________________________________________________________\n",
      "conv2d_45 (Conv2D)              (None, 512, 512, 16) 2320        dropout_22[0][0]                 \n",
      "__________________________________________________________________________________________________\n",
      "conv2d_46 (Conv2D)              (None, 512, 512, 1)  17          conv2d_45[0][0]                  \n",
      "==================================================================================================\n",
      "Total params: 1,941,105\n",
      "Trainable params: 1,941,105\n",
      "Non-trainable params: 0\n",
      "__________________________________________________________________________________________________\n"
     ]
    }
   ],
   "source": [
    "# Build U-Net model\n",
    "inputs = Input((IMG_HEIGHT, IMG_WIDTH, IMG_CHANNELS))\n",
    "#(None, 128, 128, 3)\n",
    "\n",
    "s = Lambda(lambda x: x / 255) (inputs)\n",
    "#(None, 128, 128, 3)\n",
    "\n",
    "\n",
    "\n",
    "c1 = Conv2D(16, (3, 3), activation='elu', kernel_initializer='he_normal', padding='same') (s)\n",
    "#(None, 128, 128, 16)\n",
    "\n",
    "c1 = Dropout(0.1) (c1)\n",
    "#(None, 128, 128, 16)\n",
    "\n",
    "c1 = Conv2D(16, (3, 3), activation='elu', kernel_initializer='he_normal', padding='same') (c1)\n",
    "#(None, 128, 128, 16)\n",
    "\n",
    "p1 = MaxPooling2D((2, 2)) (c1)\n",
    "#(None, 64, 64, 16) \n",
    "\n",
    "\n",
    "\n",
    "c2 = Conv2D(32, (3, 3), activation='elu', kernel_initializer='he_normal', padding='same') (p1)\n",
    "#(None, 64, 64, 32)\n",
    "\n",
    "c2 = Dropout(0.1) (c2)\n",
    "#(None, 64, 64, 32)\n",
    "\n",
    "c2 = Conv2D(32, (3, 3), activation='elu', kernel_initializer='he_normal', padding='same') (c2)\n",
    "#(None, 64, 64, 32)\n",
    "\n",
    "p2 = MaxPooling2D((2, 2)) (c2)\n",
    "#(None, 32, 32, 32)\n",
    "\n",
    "\n",
    "\n",
    "c3 = Conv2D(64, (3, 3), activation='elu', kernel_initializer='he_normal', padding='same') (p2)\n",
    "#(None, 32, 32, 64)\n",
    "\n",
    "c3 = Dropout(0.2) (c3)\n",
    "#(None, 32, 32, 64)\n",
    "\n",
    "c3 = Conv2D(64, (3, 3), activation='elu', kernel_initializer='he_normal', padding='same') (c3)\n",
    "#(None, 32, 32, 64)\n",
    "\n",
    "p3 = MaxPooling2D((2, 2)) (c3)\n",
    "#(None, 16, 16, 64)\n",
    "\n",
    "\n",
    "\n",
    "c4 = Conv2D(128, (3, 3), activation='elu', kernel_initializer='he_normal', padding='same') (p3)\n",
    "#(None, 16, 16, 128)\n",
    "\n",
    "c4 = Dropout(0.2) (c4)\n",
    "#(None, 16, 16, 128)\n",
    "\n",
    "c4 = Conv2D(128, (3, 3), activation='elu', kernel_initializer='he_normal', padding='same') (c4)\n",
    "#(None, 16, 16, 128)\n",
    "\n",
    "p4 = MaxPooling2D(pool_size=(2, 2)) (c4)\n",
    "#(None, 8, 8, 128)\n",
    "\n",
    "\n",
    "\n",
    "c5 = Conv2D(256, (3, 3), activation='elu', kernel_initializer='he_normal', padding='same') (p4)\n",
    "#(None, 8, 8, 256)\n",
    "\n",
    "c5 = Dropout(0.3) (c5)\n",
    "#(None, 8, 8, 256)\n",
    "\n",
    "c5 = Conv2D(256, (3, 3), activation='elu', kernel_initializer='he_normal', padding='same') (c5)\n",
    "#(None, 8, 8, 256)\n",
    "\n",
    "\n",
    "\n",
    "\n",
    "\n",
    "\n",
    "u6 = Conv2DTranspose(128, (2, 2), strides=(2, 2), padding='same') (c5)\n",
    "#(None, 16, 16, 128)\n",
    "\n",
    "u6 = concatenate([u6, c4])\n",
    "#(None, 16, 16, 256)\n",
    "\n",
    "c6 = Conv2D(128, (3, 3), activation='elu', kernel_initializer='he_normal', padding='same') (u6)\n",
    "#(None, 16, 16, 128) \n",
    "\n",
    "c6 = Dropout(0.2) (c6)\n",
    "#(None, 16, 16, 128)\n",
    "\n",
    "c6 = Conv2D(128, (3, 3), activation='elu', kernel_initializer='he_normal', padding='same') (c6)\n",
    "#(None, 16, 16, 128)\n",
    "\n",
    "\n",
    "u7 = Conv2DTranspose(64, (2, 2), strides=(2, 2), padding='same') (c6)\n",
    "#(None, 32, 32, 64)\n",
    "\n",
    "u7 = concatenate([u7, c3])\n",
    "#(None, 32, 32, 128)\n",
    "\n",
    "c7 = Conv2D(64, (3, 3), activation='elu', kernel_initializer='he_normal', padding='same') (u7)\n",
    "#(None, 32, 32, 64) \n",
    "\n",
    "c7 = Dropout(0.2) (c7)\n",
    "#(None, 32, 32, 64)\n",
    "\n",
    "c7 = Conv2D(64, (3, 3), activation='elu', kernel_initializer='he_normal', padding='same') (c7)\n",
    "#(None, 32, 32, 64)\n",
    "\n",
    "\n",
    "\n",
    "u8 = Conv2DTranspose(32, (2, 2), strides=(2, 2), padding='same') (c7)\n",
    "#(None, 64, 64, 32)\n",
    "\n",
    "u8 = concatenate([u8, c2])\n",
    "#(None, 64, 64, 64)\n",
    "\n",
    "c8 = Conv2D(32, (3, 3), activation='elu', kernel_initializer='he_normal', padding='same') (u8)\n",
    "#(None, 64, 64, 32)\n",
    "\n",
    "c8 = Dropout(0.1) (c8)\n",
    "#(None, 64, 64, 32)\n",
    "\n",
    "c8 = Conv2D(32, (3, 3), activation='elu', kernel_initializer='he_normal', padding='same') (c8)\n",
    "#(None, 64, 64, 32)\n",
    "\n",
    "\n",
    "\n",
    "u9 = Conv2DTranspose(16, (2, 2), strides=(2, 2), padding='same') (c8)\n",
    "#(None, 128, 128, 16)\n",
    "\n",
    "u9 = concatenate([u9, c1], axis=3)\n",
    "#(None, 128, 128, 32)\n",
    "\n",
    "c9 = Conv2D(16, (3, 3), activation='elu', kernel_initializer='he_normal', padding='same') (u9)\n",
    "#(None, 128, 128, 16)\n",
    "\n",
    "c9 = Dropout(0.1) (c9)\n",
    "#(None, 128, 128, 16)\n",
    "\n",
    "c9 = Conv2D(16, (3, 3), activation='elu', kernel_initializer='he_normal', padding='same') (c9)\n",
    "#(None, 128, 128, 16)\n",
    "\n",
    "\n",
    "\n",
    "outputs = Conv2D(1, (1, 1), activation='sigmoid') (c9)\n",
    "#(None, 128, 128, 1)\n",
    "\n",
    "\n",
    "model = Model(inputs=[inputs], outputs=[outputs])\n",
    "model.compile(optimizer='adam', loss='binary_crossentropy', metrics=[mean_iou])\n",
    "model.summary()"
   ]
  },
  {
   "cell_type": "code",
   "execution_count": 9,
   "metadata": {
    "collapsed": true
   },
   "outputs": [],
   "source": [
    "from keras.utils import plot_model\n",
    "plot_model(model, to_file='uNet_128.png')"
   ]
  },
  {
   "cell_type": "markdown",
   "metadata": {},
   "source": [
    "Update: Changed to ELU units, added dropout."
   ]
  },
  {
   "cell_type": "markdown",
   "metadata": {},
   "source": [
    "##  Training hs version with dataAugmentation"
   ]
  },
  {
   "cell_type": "code",
   "execution_count": null,
   "metadata": {
    "collapsed": true
   },
   "outputs": [],
   "source": [
    "# Finally train the model!!\n",
    "batch_size = 16\n",
    "epochs = 50\n",
    "validationSplit = 0.11\n",
    "\n",
    "\n",
    "train_generator, test_generator = get_train_test_augmented(X_data=X_train, Y_data=Y_train, validation_split=validationSplit, batch_size=batch_size)\n",
    "\n",
    "earlystopper = EarlyStopping(patience=5, verbose=1)\n",
    "checkpointer = ModelCheckpoint('model-dsbowl2018-1.h5', verbose=1, save_best_only=True)\n",
    "\n",
    "\n",
    "model.fit_generator(train_generator, validation_data=test_generator, validation_steps=batch_size/2, steps_per_epoch=len(X_train)/(batch_size*2), epochs=epochs, callbacks=[earlystopper, checkpointer])"
   ]
  },
  {
   "cell_type": "markdown",
   "metadata": {},
   "source": [
    "## Training orig"
   ]
  },
  {
   "cell_type": "markdown",
   "metadata": {
    "_cell_guid": "72330944-6ce7-4070-b276-c3c4b20c4fe5",
    "_uuid": "92350b6e18cc50f3fa7b6e9a02d39fcbff8238f7"
   },
   "source": [
    "Next we fit the model on the training data, using a validation split of 0.1. We use a small batch size because we have so little data. I recommend using checkpointing and early stopping when training your model. "
   ]
  },
  {
   "cell_type": "code",
   "execution_count": 17,
   "metadata": {
    "_cell_guid": "9415b1c4-aa69-41b9-a1e3-d6053dbd4f64",
    "_uuid": "c060db22daa2abf12b28240cd81bbcbf1ce1bf87"
   },
   "outputs": [
    {
     "name": "stdout",
     "output_type": "stream",
     "text": [
      "Train on 603 samples, validate on 67 samples\n",
      "Epoch 1/50\n",
      "592/603 [============================>.] - ETA: 1s - loss: 0.5216 - mean_iou: 0.4224Epoch 00001: val_loss improved from inf to 0.25795, saving model to model-hsUNet-512_50ep.h5\n",
      "603/603 [==============================] - 102s 169ms/step - loss: 0.5183 - mean_iou: 0.4226 - val_loss: 0.2580 - val_mean_iou: 0.4358\n",
      "Epoch 2/50\n",
      "592/603 [============================>.] - ETA: 1s - loss: 0.2736 - mean_iou: 0.4441Epoch 00002: val_loss did not improve\n",
      "603/603 [==============================] - 95s 157ms/step - loss: 0.2732 - mean_iou: 0.4444 - val_loss: 0.4100 - val_mean_iou: 0.4601\n",
      "Epoch 3/50\n",
      "592/603 [============================>.] - ETA: 1s - loss: 0.2260 - mean_iou: 0.4787Epoch 00003: val_loss improved from 0.25795 to 0.17255, saving model to model-hsUNet-512_50ep.h5\n",
      "603/603 [==============================] - 97s 161ms/step - loss: 0.2239 - mean_iou: 0.4791 - val_loss: 0.1726 - val_mean_iou: 0.5032\n",
      "Epoch 4/50\n",
      "592/603 [============================>.] - ETA: 1s - loss: 0.1640 - mean_iou: 0.5271Epoch 00004: val_loss improved from 0.17255 to 0.15261, saving model to model-hsUNet-512_50ep.h5\n",
      "603/603 [==============================] - 99s 164ms/step - loss: 0.1645 - mean_iou: 0.5275 - val_loss: 0.1526 - val_mean_iou: 0.5528\n",
      "Epoch 5/50\n",
      "592/603 [============================>.] - ETA: 1s - loss: 0.1560 - mean_iou: 0.5689Epoch 00005: val_loss improved from 0.15261 to 0.12033, saving model to model-hsUNet-512_50ep.h5\n",
      "603/603 [==============================] - 97s 161ms/step - loss: 0.1548 - mean_iou: 0.5691 - val_loss: 0.1203 - val_mean_iou: 0.5840\n",
      "Epoch 6/50\n",
      "592/603 [============================>.] - ETA: 1s - loss: 0.1415 - mean_iou: 0.5963Epoch 00006: val_loss improved from 0.12033 to 0.10655, saving model to model-hsUNet-512_50ep.h5\n",
      "603/603 [==============================] - 100s 165ms/step - loss: 0.1411 - mean_iou: 0.5965 - val_loss: 0.1065 - val_mean_iou: 0.6098\n",
      "Epoch 7/50\n",
      "592/603 [============================>.] - ETA: 1s - loss: 0.1132 - mean_iou: 0.6232Epoch 00007: val_loss improved from 0.10655 to 0.10441, saving model to model-hsUNet-512_50ep.h5\n",
      "603/603 [==============================] - 100s 167ms/step - loss: 0.1127 - mean_iou: 0.6234 - val_loss: 0.1044 - val_mean_iou: 0.6362\n",
      "Epoch 8/50\n",
      "592/603 [============================>.] - ETA: 1s - loss: 0.1072 - mean_iou: 0.6478Epoch 00008: val_loss improved from 0.10441 to 0.09571, saving model to model-hsUNet-512_50ep.h5\n",
      "603/603 [==============================] - 99s 164ms/step - loss: 0.1074 - mean_iou: 0.6480 - val_loss: 0.0957 - val_mean_iou: 0.6581\n",
      "Epoch 9/50\n",
      "592/603 [============================>.] - ETA: 1s - loss: 0.1090 - mean_iou: 0.6669Epoch 00009: val_loss improved from 0.09571 to 0.08988, saving model to model-hsUNet-512_50ep.h5\n",
      "603/603 [==============================] - 98s 163ms/step - loss: 0.1090 - mean_iou: 0.6670 - val_loss: 0.0899 - val_mean_iou: 0.6751\n",
      "Epoch 10/50\n",
      "592/603 [============================>.] - ETA: 1s - loss: 0.0996 - mean_iou: 0.6823Epoch 00010: val_loss did not improve\n",
      "603/603 [==============================] - 95s 157ms/step - loss: 0.1000 - mean_iou: 0.6824 - val_loss: 0.0901 - val_mean_iou: 0.6899\n",
      "Epoch 11/50\n",
      "592/603 [============================>.] - ETA: 1s - loss: 0.0987 - mean_iou: 0.6959Epoch 00011: val_loss improved from 0.08988 to 0.08809, saving model to model-hsUNet-512_50ep.h5\n",
      "603/603 [==============================] - 99s 164ms/step - loss: 0.0985 - mean_iou: 0.6960 - val_loss: 0.0881 - val_mean_iou: 0.7023\n",
      "Epoch 12/50\n",
      "592/603 [============================>.] - ETA: 1s - loss: 0.1114 - mean_iou: 0.7066Epoch 00012: val_loss did not improve\n",
      "603/603 [==============================] - 95s 158ms/step - loss: 0.1110 - mean_iou: 0.7067 - val_loss: 0.0991 - val_mean_iou: 0.7110\n",
      "Epoch 13/50\n",
      "592/603 [============================>.] - ETA: 1s - loss: 0.1054 - mean_iou: 0.7142Epoch 00013: val_loss did not improve\n",
      "603/603 [==============================] - 95s 157ms/step - loss: 0.1054 - mean_iou: 0.7142 - val_loss: 0.0985 - val_mean_iou: 0.7183\n",
      "Epoch 14/50\n",
      "592/603 [============================>.] - ETA: 1s - loss: 0.0950 - mean_iou: 0.7225Epoch 00014: val_loss did not improve\n",
      "603/603 [==============================] - 95s 158ms/step - loss: 0.0948 - mean_iou: 0.7226 - val_loss: 0.0892 - val_mean_iou: 0.7266\n",
      "Epoch 15/50\n",
      "592/603 [============================>.] - ETA: 1s - loss: 0.0926 - mean_iou: 0.7300Epoch 00015: val_loss improved from 0.08809 to 0.08457, saving model to model-hsUNet-512_50ep.h5\n",
      "603/603 [==============================] - 96s 159ms/step - loss: 0.0948 - mean_iou: 0.7301 - val_loss: 0.0846 - val_mean_iou: 0.7337\n",
      "Epoch 16/50\n",
      "592/603 [============================>.] - ETA: 1s - loss: 0.0918 - mean_iou: 0.7366Epoch 00016: val_loss improved from 0.08457 to 0.08343, saving model to model-hsUNet-512_50ep.h5\n",
      "603/603 [==============================] - 101s 167ms/step - loss: 0.0918 - mean_iou: 0.7367 - val_loss: 0.0834 - val_mean_iou: 0.7400\n",
      "Epoch 17/50\n",
      "592/603 [============================>.] - ETA: 1s - loss: 0.0919 - mean_iou: 0.7429Epoch 00017: val_loss did not improve\n",
      "603/603 [==============================] - 95s 158ms/step - loss: 0.0920 - mean_iou: 0.7429 - val_loss: 0.0857 - val_mean_iou: 0.7457\n",
      "Epoch 18/50\n",
      "592/603 [============================>.] - ETA: 1s - loss: 0.0893 - mean_iou: 0.7483Epoch 00018: val_loss improved from 0.08343 to 0.08015, saving model to model-hsUNet-512_50ep.h5\n",
      "603/603 [==============================] - 97s 161ms/step - loss: 0.0897 - mean_iou: 0.7484 - val_loss: 0.0801 - val_mean_iou: 0.7510\n",
      "Epoch 19/50\n",
      "592/603 [============================>.] - ETA: 1s - loss: 0.0904 - mean_iou: 0.7534Epoch 00019: val_loss improved from 0.08015 to 0.07640, saving model to model-hsUNet-512_50ep.h5\n",
      "603/603 [==============================] - 97s 161ms/step - loss: 0.0906 - mean_iou: 0.7534 - val_loss: 0.0764 - val_mean_iou: 0.7558\n",
      "Epoch 20/50\n",
      "592/603 [============================>.] - ETA: 1s - loss: 0.0872 - mean_iou: 0.7579Epoch 00020: val_loss did not improve\n",
      "603/603 [==============================] - 95s 157ms/step - loss: 0.0866 - mean_iou: 0.7580 - val_loss: 0.0831 - val_mean_iou: 0.7602\n",
      "Epoch 21/50\n",
      "592/603 [============================>.] - ETA: 1s - loss: 0.0896 - mean_iou: 0.7621Epoch 00021: val_loss did not improve\n",
      "603/603 [==============================] - 95s 158ms/step - loss: 0.0894 - mean_iou: 0.7622 - val_loss: 0.0816 - val_mean_iou: 0.7641\n",
      "Epoch 22/50\n",
      "592/603 [============================>.] - ETA: 1s - loss: 0.0871 - mean_iou: 0.7659Epoch 00022: val_loss did not improve\n",
      "603/603 [==============================] - 95s 158ms/step - loss: 0.0870 - mean_iou: 0.7660 - val_loss: 0.0813 - val_mean_iou: 0.7677\n",
      "Epoch 23/50\n",
      "592/603 [============================>.] - ETA: 1s - loss: 0.0882 - mean_iou: 0.7694Epoch 00023: val_loss did not improve\n",
      "603/603 [==============================] - 95s 158ms/step - loss: 0.0877 - mean_iou: 0.7694 - val_loss: 0.0774 - val_mean_iou: 0.7711\n",
      "Epoch 24/50\n",
      "592/603 [============================>.] - ETA: 1s - loss: 0.0867 - mean_iou: 0.7729Epoch 00024: val_loss improved from 0.07640 to 0.07477, saving model to model-hsUNet-512_50ep.h5\n",
      "603/603 [==============================] - 99s 164ms/step - loss: 0.0861 - mean_iou: 0.7729 - val_loss: 0.0748 - val_mean_iou: 0.7744\n",
      "Epoch 25/50\n",
      "592/603 [============================>.] - ETA: 1s - loss: 0.0844 - mean_iou: 0.7759Epoch 00025: val_loss did not improve\n",
      "603/603 [==============================] - 95s 158ms/step - loss: 0.0845 - mean_iou: 0.7759 - val_loss: 0.0749 - val_mean_iou: 0.7775\n",
      "Epoch 26/50\n",
      "592/603 [============================>.] - ETA: 1s - loss: 0.0841 - mean_iou: 0.7789Epoch 00026: val_loss did not improve\n",
      "603/603 [==============================] - 95s 158ms/step - loss: 0.0838 - mean_iou: 0.7789 - val_loss: 0.0770 - val_mean_iou: 0.7803\n",
      "Epoch 27/50\n",
      "592/603 [============================>.] - ETA: 1s - loss: 0.0833 - mean_iou: 0.7815Epoch 00027: val_loss did not improve\n",
      "603/603 [==============================] - 95s 158ms/step - loss: 0.0828 - mean_iou: 0.7815 - val_loss: 0.0809 - val_mean_iou: 0.7829\n",
      "Epoch 28/50\n"
     ]
    },
    {
     "name": "stdout",
     "output_type": "stream",
     "text": [
      "592/603 [============================>.] - ETA: 1s - loss: 0.0836 - mean_iou: 0.7841Epoch 00028: val_loss improved from 0.07477 to 0.07383, saving model to model-hsUNet-512_50ep.h5\n",
      "603/603 [==============================] - 99s 165ms/step - loss: 0.0829 - mean_iou: 0.7841 - val_loss: 0.0738 - val_mean_iou: 0.7853\n",
      "Epoch 29/50\n",
      "592/603 [============================>.] - ETA: 1s - loss: 0.0831 - mean_iou: 0.7864Epoch 00029: val_loss did not improve\n",
      "603/603 [==============================] - 95s 158ms/step - loss: 0.0831 - mean_iou: 0.7864 - val_loss: 0.0805 - val_mean_iou: 0.7875\n",
      "Epoch 30/50\n",
      "592/603 [============================>.] - ETA: 1s - loss: 0.0826 - mean_iou: 0.7886Epoch 00030: val_loss did not improve\n",
      "603/603 [==============================] - 95s 158ms/step - loss: 0.0833 - mean_iou: 0.7886 - val_loss: 0.0949 - val_mean_iou: 0.7898\n",
      "Epoch 31/50\n",
      "592/603 [============================>.] - ETA: 1s - loss: 0.0799 - mean_iou: 0.7908Epoch 00031: val_loss did not improve\n",
      "603/603 [==============================] - 95s 158ms/step - loss: 0.0795 - mean_iou: 0.7909 - val_loss: 0.0744 - val_mean_iou: 0.7918\n",
      "Epoch 32/50\n",
      "592/603 [============================>.] - ETA: 1s - loss: 0.0807 - mean_iou: 0.7928Epoch 00032: val_loss did not improve\n",
      "603/603 [==============================] - 95s 158ms/step - loss: 0.0800 - mean_iou: 0.7928 - val_loss: 0.0746 - val_mean_iou: 0.7937\n",
      "Epoch 33/50\n",
      "592/603 [============================>.] - ETA: 1s - loss: 0.0772 - mean_iou: 0.7947Epoch 00033: val_loss did not improve\n",
      "603/603 [==============================] - 95s 158ms/step - loss: 0.0770 - mean_iou: 0.7947 - val_loss: 0.0745 - val_mean_iou: 0.7957\n",
      "Epoch 00033: early stopping\n"
     ]
    }
   ],
   "source": [
    "# Fit model\n",
    "earlystopper = EarlyStopping(patience=5, verbose=1)\n",
    "checkpointer = ModelCheckpoint('model-hsUNet-512_50ep.h5', verbose=1, save_best_only=True)\n",
    "results = model.fit(X_train, Y_train, validation_split=0.1, batch_size=16, epochs=50, \n",
    "                    callbacks=[earlystopper, checkpointer])"
   ]
  },
  {
   "cell_type": "markdown",
   "metadata": {
    "_cell_guid": "1f381f5b-1b71-4daa-a417-e02f4894540b",
    "_uuid": "bb15226ea617cf91ed8f43179fccb5a15809e5a0"
   },
   "source": [
    "All right, looks good! Loss seems to be a bit erratic, though. I'll leave it to you to improve the model architecture and parameters! \n",
    "\n",
    "# Make predictions\n",
    "\n",
    "Let's make predictions both on the test set, the val set and the train set (as a sanity check). Remember to load the best saved model if you've used early stopping and checkpointing."
   ]
  },
  {
   "cell_type": "code",
   "execution_count": 18,
   "metadata": {
    "_cell_guid": "2daa48d5-ac98-4e18-af3f-a582baaa44f0",
    "_uuid": "f841760b4abca1a25cb750822f88268bd79bf2ce"
   },
   "outputs": [
    {
     "name": "stdout",
     "output_type": "stream",
     "text": [
      "603/603 [==============================] - 25s 41ms/step\n",
      "67/67 [==============================] - 3s 38ms/step\n",
      "65/65 [==============================] - 3s 40ms/step\n"
     ]
    }
   ],
   "source": [
    "# Predict on train, val and test\n",
    "model = load_model('model-hsUNet-512_50ep.h5', custom_objects={'mean_iou': mean_iou})\n",
    "preds_train = model.predict(X_train[:int(X_train.shape[0]*0.9)], verbose=1)\n",
    "preds_val = model.predict(X_train[int(X_train.shape[0]*0.9):], verbose=1)\n",
    "preds_test = model.predict(X_test, verbose=1)\n",
    "\n",
    "# Threshold predictions\n",
    "preds_train_t = (preds_train > 0.5).astype(np.uint8)\n",
    "preds_val_t = (preds_val > 0.5).astype(np.uint8)\n",
    "preds_test_t = (preds_test > 0.5).astype(np.uint8)\n",
    "\n",
    "# Create list of upsampled test masks\n",
    "preds_test_upsampled = []\n",
    "for i in range(len(preds_test)):\n",
    "    preds_test_upsampled.append(resize(np.squeeze(preds_test[i]), \n",
    "                                       (sizes_test[i][0], sizes_test[i][1]), \n",
    "                                       mode='constant', preserve_range=True))"
   ]
  },
  {
   "cell_type": "code",
   "execution_count": 19,
   "metadata": {
    "_cell_guid": "649248cd-a1fb-4da6-ade2-4bebad44bcab",
    "_uuid": "7e06242a50870e07a080064a4912b761775990fa"
   },
   "outputs": [
    {
     "data": {
      "image/png": "[encoded data removed]",
      "text/plain": [
       "<matplotlib.figure.Figure at 0x7ff9381f0a58>"
      ]
     },
     "metadata": {},
     "output_type": "display_data"
    },
    {
     "data": {
      "image/png": "[encoded data removed]",
      "text/plain": [
       "<matplotlib.figure.Figure at 0x7ff9b4313390>"
      ]
     },
     "metadata": {},
     "output_type": "display_data"
    },
    {
     "data": {
      "image/png": "[encoded data removed]",
      "text/plain": [
       "<matplotlib.figure.Figure at 0x7ff8bc4e6048>"
      ]
     },
     "metadata": {},
     "output_type": "display_data"
    }
   ],
   "source": [
    "# Perform a sanity check on some random training samples\n",
    "ix = random.randint(0, len(preds_train_t))\n",
    "imshow(X_train[ix])\n",
    "plt.show()\n",
    "imshow(np.squeeze(Y_train[ix]))\n",
    "plt.show()\n",
    "imshow(np.squeeze(preds_train_t[ix]))\n",
    "plt.show()"
   ]
  },
  {
   "cell_type": "code",
   "execution_count": 11,
   "metadata": {},
   "outputs": [
    {
     "data": {
      "text/plain": [
       "(512, 512, 1)"
      ]
     },
     "execution_count": 11,
     "metadata": {},
     "output_type": "execute_result"
    }
   ],
   "source": [
    "preds_train_t[50].shape"
   ]
  },
  {
   "cell_type": "markdown",
   "metadata": {
    "_cell_guid": "af602aea-5e56-42a8-9331-54b4b2650593",
    "_uuid": "5fcee2b9aee2fba5c60d43ad48a14139e9c1318c"
   },
   "source": [
    "The model is at least able to fit to the training data! Certainly a lot of room for improvement even here, but a decent start. How about the validation data?"
   ]
  },
  {
   "cell_type": "code",
   "execution_count": 13,
   "metadata": {
    "_cell_guid": "4f66b75c-c694-41a1-8c91-34bb6595837b",
    "_uuid": "d4ccbb559375bc2777ffb692a20adc313159f2cc"
   },
   "outputs": [
    {
     "data": {
      "image/png": "[encoded data removed]",
      "text/plain": [
       "<matplotlib.figure.Figure at 0x7f4b2e13cb70>"
      ]
     },
     "metadata": {},
     "output_type": "display_data"
    },
    {
     "data": {
      "image/png": "[encoded data removed]",
      "text/plain": [
       "<matplotlib.figure.Figure at 0x7f4b2e40e630>"
      ]
     },
     "metadata": {},
     "output_type": "display_data"
    },
    {
     "data": {
      "image/png": "[encoded data removed]",
      "text/plain": [
       "<matplotlib.figure.Figure at 0x7f4b2e03a048>"
      ]
     },
     "metadata": {},
     "output_type": "display_data"
    }
   ],
   "source": [
    "# Perform a sanity check on some random validation samples\n",
    "ix = random.randint(0, len(preds_val_t))\n",
    "imshow(X_train[int(X_train.shape[0]*0.9):][ix])\n",
    "plt.show()\n",
    "imshow(np.squeeze(Y_train[int(Y_train.shape[0]*0.9):][ix]))\n",
    "plt.show()\n",
    "imshow(np.squeeze(preds_val_t[ix]))\n",
    "plt.show()"
   ]
  },
  {
   "cell_type": "markdown",
   "metadata": {
    "_cell_guid": "a6690535-b2e4-49ac-98d9-7191bfabfb6f",
    "_uuid": "6a34c98de7c6ae473f676a34fe7e099b46764eca"
   },
   "source": [
    "Not too shabby! Definitely needs some more training and tweaking.\n",
    "\n",
    "# Encode and submit our results\n",
    "\n",
    "Now it's time to submit our results. I've stolen [this](https://www.kaggle.com/rakhlin/fast-run-length-encoding-python) excellent implementation of run-length encoding."
   ]
  },
  {
   "cell_type": "code",
   "execution_count": 20,
   "metadata": {
    "_cell_guid": "59a0af60-a7d7-41ef-a6fe-9e3c72defa07",
    "_uuid": "4f99c1bf852e82b60bd4f982ca0df293f712cdf0",
    "collapsed": true
   },
   "outputs": [],
   "source": [
    "# Run-length encoding stolen from https://www.kaggle.com/rakhlin/fast-run-length-encoding-python\n",
    "def rle_encoding(x):\n",
    "    dots = np.where(x.T.flatten() == 1)[0]\n",
    "    run_lengths = []\n",
    "    prev = -2\n",
    "    for b in dots:\n",
    "        if (b>prev+1): run_lengths.extend((b + 1, 0))\n",
    "        run_lengths[-1] += 1\n",
    "        prev = b\n",
    "    return run_lengths\n",
    "\n",
    "def prob_to_rles(x, cutoff=0.5):\n",
    "    lab_img = label(x > cutoff)\n",
    "    for i in range(1, lab_img.max() + 1):\n",
    "        yield rle_encoding(lab_img == i)"
   ]
  },
  {
   "cell_type": "markdown",
   "metadata": {
    "_cell_guid": "31133f8c-3f40-4dff-8e1d-898d56672332",
    "_uuid": "2e07f6afc4787b068ba714428145dcb3951d718f"
   },
   "source": [
    "Let's iterate over the test IDs and generate run-length encodings for each seperate mask identified by skimage ..."
   ]
  },
  {
   "cell_type": "code",
   "execution_count": 21,
   "metadata": {
    "_cell_guid": "22fe24a1-7659-4cc9-9d23-211f38e5b99f",
    "_uuid": "089587843ed6a3955fdcb9b23a6ec3bf5d703688",
    "collapsed": true
   },
   "outputs": [],
   "source": [
    "new_test_ids = []\n",
    "rles = []\n",
    "for n, id_ in enumerate(test_ids):\n",
    "    rle = list(prob_to_rles(preds_test_upsampled[n]))\n",
    "    rles.extend(rle)\n",
    "    new_test_ids.extend([id_] * len(rle))"
   ]
  },
  {
   "cell_type": "markdown",
   "metadata": {
    "_cell_guid": "20b6b627-0fd6-425d-888f-da7f39efb124",
    "_uuid": "849184a40a2c9c21506d8b8eb10ad9155fa229e8"
   },
   "source": [
    "... and then finally create our submission!"
   ]
  },
  {
   "cell_type": "code",
   "execution_count": 22,
   "metadata": {
    "_cell_guid": "1ba0ee3a-cca0-4349-83f6-09a1ac6fcb44",
    "_uuid": "ba589f56f5be1e6886bc88f5bf9e7d0a408e4048",
    "collapsed": true
   },
   "outputs": [],
   "source": [
    "# Create submission DataFrame\n",
    "sub = pd.DataFrame()\n",
    "sub['ImageId'] = new_test_ids\n",
    "sub['EncodedPixels'] = pd.Series(rles).apply(lambda x: ' '.join(str(y) for y in x))\n",
    "#sub.to_csv('subm_uNet_' + str(datetime.datetime.now()) + '.csv', index=False)\n",
    "sub.to_csv('hs_hsUNet_512_50ep_score_.csv', index=False)"
   ]
  },
  {
   "cell_type": "markdown",
   "metadata": {
    "_cell_guid": "222475b9-3171-461a-90f0-a820a6bd2634",
    "_uuid": "fb5e6f8cca872f1bd7036f6d9ac2ed2cab615536",
    "collapsed": true
   },
   "source": [
    "This scored 0.233 on the LB for me. That was with version 2 of this notebook; be aware that the results from the neural network are extremely erratic and vary greatly from run to run (version 3 is significantly worse, for example). Version 7 scores 0.277!\n",
    "\n",
    "You should easily be able to stabilize and improve the results just by changing a few parameters, tweaking the architecture a little bit and training longer with early stopping.\n",
    "\n",
    "**Have fun!**\n",
    "\n",
    "LB score history:\n",
    "- Version 7: 0.277 LB"
   ]
  },
  {
   "cell_type": "code",
   "execution_count": null,
   "metadata": {
    "_cell_guid": "3f5e5a47-6133-4870-976a-a8e4fa7bf46c",
    "_uuid": "2a83eab66bf55194f300953bea5534b6a043130f",
    "collapsed": true
   },
   "outputs": [],
   "source": []
  },
  {
   "cell_type": "markdown",
   "metadata": {},
   "source": [
    "# hs Reinforcement Learning"
   ]
  },
  {
   "cell_type": "code",
   "execution_count": 56,
   "metadata": {},
   "outputs": [
    {
     "name": "stdout",
     "output_type": "stream",
     "text": [
      "__________________________________________________________________________________________________\n",
      "Layer (type)                    Output Shape         Param #     Connected to                     \n",
      "==================================================================================================\n",
      "input_1 (InputLayer)            (None, 128, 128, 3)  0                                            \n",
      "__________________________________________________________________________________________________\n",
      "lambda_1 (Lambda)               (None, 128, 128, 3)  0           input_1[0][0]                    \n",
      "__________________________________________________________________________________________________\n",
      "conv2d_1 (Conv2D)               (None, 128, 128, 16) 448         lambda_1[0][0]                   \n",
      "__________________________________________________________________________________________________\n",
      "dropout_1 (Dropout)             (None, 128, 128, 16) 0           conv2d_1[0][0]                   \n",
      "__________________________________________________________________________________________________\n",
      "conv2d_2 (Conv2D)               (None, 128, 128, 16) 2320        dropout_1[0][0]                  \n",
      "__________________________________________________________________________________________________\n",
      "max_pooling2d_1 (MaxPooling2D)  (None, 64, 64, 16)   0           conv2d_2[0][0]                   \n",
      "__________________________________________________________________________________________________\n",
      "conv2d_3 (Conv2D)               (None, 64, 64, 32)   4640        max_pooling2d_1[0][0]            \n",
      "__________________________________________________________________________________________________\n",
      "dropout_2 (Dropout)             (None, 64, 64, 32)   0           conv2d_3[0][0]                   \n",
      "__________________________________________________________________________________________________\n",
      "conv2d_4 (Conv2D)               (None, 64, 64, 32)   9248        dropout_2[0][0]                  \n",
      "__________________________________________________________________________________________________\n",
      "max_pooling2d_2 (MaxPooling2D)  (None, 32, 32, 32)   0           conv2d_4[0][0]                   \n",
      "__________________________________________________________________________________________________\n",
      "conv2d_5 (Conv2D)               (None, 32, 32, 64)   18496       max_pooling2d_2[0][0]            \n",
      "__________________________________________________________________________________________________\n",
      "dropout_3 (Dropout)             (None, 32, 32, 64)   0           conv2d_5[0][0]                   \n",
      "__________________________________________________________________________________________________\n",
      "conv2d_6 (Conv2D)               (None, 32, 32, 64)   36928       dropout_3[0][0]                  \n",
      "__________________________________________________________________________________________________\n",
      "max_pooling2d_3 (MaxPooling2D)  (None, 16, 16, 64)   0           conv2d_6[0][0]                   \n",
      "__________________________________________________________________________________________________\n",
      "conv2d_7 (Conv2D)               (None, 16, 16, 128)  73856       max_pooling2d_3[0][0]            \n",
      "__________________________________________________________________________________________________\n",
      "dropout_4 (Dropout)             (None, 16, 16, 128)  0           conv2d_7[0][0]                   \n",
      "__________________________________________________________________________________________________\n",
      "conv2d_8 (Conv2D)               (None, 16, 16, 128)  147584      dropout_4[0][0]                  \n",
      "__________________________________________________________________________________________________\n",
      "max_pooling2d_4 (MaxPooling2D)  (None, 8, 8, 128)    0           conv2d_8[0][0]                   \n",
      "__________________________________________________________________________________________________\n",
      "conv2d_9 (Conv2D)               (None, 8, 8, 256)    295168      max_pooling2d_4[0][0]            \n",
      "__________________________________________________________________________________________________\n",
      "dropout_5 (Dropout)             (None, 8, 8, 256)    0           conv2d_9[0][0]                   \n",
      "__________________________________________________________________________________________________\n",
      "conv2d_10 (Conv2D)              (None, 8, 8, 256)    590080      dropout_5[0][0]                  \n",
      "__________________________________________________________________________________________________\n",
      "conv2d_transpose_1 (Conv2DTrans (None, 16, 16, 128)  131200      conv2d_10[0][0]                  \n",
      "__________________________________________________________________________________________________\n",
      "concatenate_1 (Concatenate)     (None, 16, 16, 256)  0           conv2d_transpose_1[0][0]         \n",
      "                                                                 conv2d_8[0][0]                   \n",
      "__________________________________________________________________________________________________\n",
      "conv2d_11 (Conv2D)              (None, 16, 16, 128)  295040      concatenate_1[0][0]              \n",
      "__________________________________________________________________________________________________\n",
      "dropout_6 (Dropout)             (None, 16, 16, 128)  0           conv2d_11[0][0]                  \n",
      "__________________________________________________________________________________________________\n",
      "conv2d_12 (Conv2D)              (None, 16, 16, 128)  147584      dropout_6[0][0]                  \n",
      "__________________________________________________________________________________________________\n",
      "conv2d_transpose_2 (Conv2DTrans (None, 32, 32, 64)   32832       conv2d_12[0][0]                  \n",
      "__________________________________________________________________________________________________\n",
      "concatenate_2 (Concatenate)     (None, 32, 32, 128)  0           conv2d_transpose_2[0][0]         \n",
      "                                                                 conv2d_6[0][0]                   \n",
      "__________________________________________________________________________________________________\n",
      "conv2d_13 (Conv2D)              (None, 32, 32, 64)   73792       concatenate_2[0][0]              \n",
      "__________________________________________________________________________________________________\n",
      "dropout_7 (Dropout)             (None, 32, 32, 64)   0           conv2d_13[0][0]                  \n",
      "__________________________________________________________________________________________________\n",
      "conv2d_14 (Conv2D)              (None, 32, 32, 64)   36928       dropout_7[0][0]                  \n",
      "__________________________________________________________________________________________________\n",
      "conv2d_transpose_3 (Conv2DTrans (None, 64, 64, 32)   8224        conv2d_14[0][0]                  \n",
      "__________________________________________________________________________________________________\n",
      "concatenate_3 (Concatenate)     (None, 64, 64, 64)   0           conv2d_transpose_3[0][0]         \n",
      "                                                                 conv2d_4[0][0]                   \n",
      "__________________________________________________________________________________________________\n",
      "conv2d_15 (Conv2D)              (None, 64, 64, 32)   18464       concatenate_3[0][0]              \n",
      "__________________________________________________________________________________________________\n",
      "dropout_8 (Dropout)             (None, 64, 64, 32)   0           conv2d_15[0][0]                  \n",
      "__________________________________________________________________________________________________\n",
      "conv2d_16 (Conv2D)              (None, 64, 64, 32)   9248        dropout_8[0][0]                  \n",
      "__________________________________________________________________________________________________\n",
      "conv2d_transpose_4 (Conv2DTrans (None, 128, 128, 16) 2064        conv2d_16[0][0]                  \n",
      "__________________________________________________________________________________________________\n",
      "concatenate_4 (Concatenate)     (None, 128, 128, 32) 0           conv2d_transpose_4[0][0]         \n",
      "                                                                 conv2d_2[0][0]                   \n",
      "__________________________________________________________________________________________________\n",
      "conv2d_17 (Conv2D)              (None, 128, 128, 16) 4624        concatenate_4[0][0]              \n",
      "__________________________________________________________________________________________________\n",
      "dropout_9 (Dropout)             (None, 128, 128, 16) 0           conv2d_17[0][0]                  \n",
      "__________________________________________________________________________________________________\n",
      "conv2d_18 (Conv2D)              (None, 128, 128, 16) 2320        dropout_9[0][0]                  \n",
      "__________________________________________________________________________________________________\n",
      "conv2d_19 (Conv2D)              (None, 128, 128, 1)  17          conv2d_18[0][0]                  \n",
      "==================================================================================================\n",
      "Total params: 1,941,105\n",
      "Trainable params: 1,941,105\n",
      "Non-trainable params: 0\n",
      "__________________________________________________________________________________________________\n"
     ]
    }
   ],
   "source": [
    "model = load_model('model-dsbowl2018-1.h5', custom_objects={'mean_iou': mean_iou})\n",
    "model.summary()"
   ]
  },
  {
   "cell_type": "code",
   "execution_count": 24,
   "metadata": {},
   "outputs": [
    {
     "data": {
      "text/plain": [
       "(65, 128, 128, 3)"
      ]
     },
     "execution_count": 24,
     "metadata": {},
     "output_type": "execute_result"
    }
   ],
   "source": [
    "X_test.shape"
   ]
  },
  {
   "cell_type": "code",
   "execution_count": 29,
   "metadata": {},
   "outputs": [
    {
     "name": "stdout",
     "output_type": "stream",
     "text": [
      "\r",
      "1/1 [==============================] - 18s 18s/step\n"
     ]
    }
   ],
   "source": [
    "preds_test = model.predict(X_test[0:1,:,:,:], verbose=1)"
   ]
  },
  {
   "cell_type": "code",
   "execution_count": 32,
   "metadata": {},
   "outputs": [
    {
     "data": {
      "text/plain": [
       "(1, 128, 128, 1)"
      ]
     },
     "execution_count": 32,
     "metadata": {},
     "output_type": "execute_result"
    }
   ],
   "source": [
    "preds_test.shape"
   ]
  },
  {
   "cell_type": "markdown",
   "metadata": {},
   "source": [
    "### hs preds_test is a probability map, where the value for each pixel shows the prob that it is a cell neclei"
   ]
  },
  {
   "cell_type": "code",
   "execution_count": 34,
   "metadata": {},
   "outputs": [
    {
     "data": {
      "image/png": "[encoded data removed]",
      "text/plain": [
       "<matplotlib.figure.Figure at 0x7f04b6fa8e80>"
      ]
     },
     "metadata": {},
     "output_type": "display_data"
    }
   ],
   "source": [
    "imshow(np.squeeze(preds_test))\n",
    "plt.show()"
   ]
  },
  {
   "cell_type": "code",
   "execution_count": 18,
   "metadata": {},
   "outputs": [
    {
     "data": {
      "text/plain": [
       "['input_1',\n",
       " 'lambda_1',\n",
       " 'conv2d_1',\n",
       " 'dropout_1',\n",
       " 'conv2d_2',\n",
       " 'max_pooling2d_1',\n",
       " 'conv2d_3',\n",
       " 'dropout_2',\n",
       " 'conv2d_4',\n",
       " 'max_pooling2d_2',\n",
       " 'conv2d_5',\n",
       " 'dropout_3',\n",
       " 'conv2d_6',\n",
       " 'max_pooling2d_3',\n",
       " 'conv2d_7',\n",
       " 'dropout_4',\n",
       " 'conv2d_8',\n",
       " 'max_pooling2d_4',\n",
       " 'conv2d_9',\n",
       " 'dropout_5',\n",
       " 'conv2d_10',\n",
       " 'conv2d_transpose_1',\n",
       " 'concatenate_1',\n",
       " 'conv2d_11',\n",
       " 'dropout_6',\n",
       " 'conv2d_12',\n",
       " 'conv2d_transpose_2',\n",
       " 'concatenate_2',\n",
       " 'conv2d_13',\n",
       " 'dropout_7',\n",
       " 'conv2d_14',\n",
       " 'conv2d_transpose_3',\n",
       " 'concatenate_3',\n",
       " 'conv2d_15',\n",
       " 'dropout_8',\n",
       " 'conv2d_16',\n",
       " 'conv2d_transpose_4',\n",
       " 'concatenate_4',\n",
       " 'conv2d_17',\n",
       " 'dropout_9',\n",
       " 'conv2d_18',\n",
       " 'conv2d_19']"
      ]
     },
     "execution_count": 18,
     "metadata": {},
     "output_type": "execute_result"
    }
   ],
   "source": [
    "layer_dict = dict([(layer.name, layer) for layer in model.layers])\n",
    "[layer.name for layer in model.layers]"
   ]
  },
  {
   "cell_type": "code",
   "execution_count": 21,
   "metadata": {},
   "outputs": [
    {
     "data": {
      "text/plain": [
       "[<keras.engine.topology.InputLayer at 0x7f04f0297748>,\n",
       " <keras.layers.core.Lambda at 0x7f04f0297cc0>,\n",
       " <keras.layers.convolutional.Conv2D at 0x7f04f02975f8>,\n",
       " <keras.layers.core.Dropout at 0x7f04f0297ba8>,\n",
       " <keras.layers.convolutional.Conv2D at 0x7f04f0297a20>,\n",
       " <keras.layers.pooling.MaxPooling2D at 0x7f04f02979b0>,\n",
       " <keras.layers.convolutional.Conv2D at 0x7f04f0293780>,\n",
       " <keras.layers.core.Dropout at 0x7f04f02934e0>,\n",
       " <keras.layers.convolutional.Conv2D at 0x7f04f0293908>,\n",
       " <keras.layers.pooling.MaxPooling2D at 0x7f04f0293e48>,\n",
       " <keras.layers.convolutional.Conv2D at 0x7f04f02934a8>,\n",
       " <keras.layers.core.Dropout at 0x7f04f0293b38>,\n",
       " <keras.layers.convolutional.Conv2D at 0x7f04f0293a90>,\n",
       " <keras.layers.pooling.MaxPooling2D at 0x7f04f02930f0>,\n",
       " <keras.layers.convolutional.Conv2D at 0x7f04f0293d30>,\n",
       " <keras.layers.core.Dropout at 0x7f050c2e4320>,\n",
       " <keras.layers.convolutional.Conv2D at 0x7f04f027c4a8>,\n",
       " <keras.layers.pooling.MaxPooling2D at 0x7f04f027c160>,\n",
       " <keras.layers.convolutional.Conv2D at 0x7f04f027c320>,\n",
       " <keras.layers.core.Dropout at 0x7f04f0293160>,\n",
       " <keras.layers.convolutional.Conv2D at 0x7f04cae99be0>,\n",
       " <keras.layers.convolutional.Conv2DTranspose at 0x7f04c9311cf8>,\n",
       " <keras.layers.merge.Concatenate at 0x7f04c92e7c50>,\n",
       " <keras.layers.convolutional.Conv2D at 0x7f04c92e7630>,\n",
       " <keras.layers.core.Dropout at 0x7f04c92e7898>,\n",
       " <keras.layers.convolutional.Conv2D at 0x7f04c92e7a20>,\n",
       " <keras.layers.convolutional.Conv2DTranspose at 0x7f04c92e7940>,\n",
       " <keras.layers.merge.Concatenate at 0x7f04c92e7588>,\n",
       " <keras.layers.convolutional.Conv2D at 0x7f04c92e7fd0>,\n",
       " <keras.layers.core.Dropout at 0x7f04c92e7ba8>,\n",
       " <keras.layers.convolutional.Conv2D at 0x7f04c92e73c8>,\n",
       " <keras.layers.convolutional.Conv2DTranspose at 0x7f04c92e7cf8>,\n",
       " <keras.layers.merge.Concatenate at 0x7f04c92e7b00>,\n",
       " <keras.layers.convolutional.Conv2D at 0x7f04c92e7ac8>,\n",
       " <keras.layers.core.Dropout at 0x7f04c92e7e48>,\n",
       " <keras.layers.convolutional.Conv2D at 0x7f04c92c7b70>,\n",
       " <keras.layers.convolutional.Conv2DTranspose at 0x7f04c963d160>,\n",
       " <keras.layers.merge.Concatenate at 0x7f04c963d320>,\n",
       " <keras.layers.convolutional.Conv2D at 0x7f04c963d358>,\n",
       " <keras.layers.core.Dropout at 0x7f04c963d4a8>,\n",
       " <keras.layers.convolutional.Conv2D at 0x7f04c963d518>,\n",
       " <keras.layers.convolutional.Conv2D at 0x7f04c963d668>]"
      ]
     },
     "execution_count": 21,
     "metadata": {},
     "output_type": "execute_result"
    }
   ],
   "source": [
    "model.layers"
   ]
  },
  {
   "cell_type": "code",
   "execution_count": 23,
   "metadata": {},
   "outputs": [
    {
     "data": {
      "text/plain": [
       "42"
      ]
     },
     "execution_count": 23,
     "metadata": {},
     "output_type": "execute_result"
    }
   ],
   "source": [
    "len(model.layers)"
   ]
  },
  {
   "cell_type": "code",
   "execution_count": 22,
   "metadata": {},
   "outputs": [
    {
     "data": {
      "text/plain": [
       "['input_1',\n",
       " 'lambda_1',\n",
       " 'conv2d_1',\n",
       " 'dropout_1',\n",
       " 'conv2d_2',\n",
       " 'max_pooling2d_1',\n",
       " 'conv2d_3',\n",
       " 'dropout_2',\n",
       " 'conv2d_4',\n",
       " 'max_pooling2d_2',\n",
       " 'conv2d_5',\n",
       " 'dropout_3',\n",
       " 'conv2d_6',\n",
       " 'max_pooling2d_3',\n",
       " 'conv2d_7',\n",
       " 'dropout_4',\n",
       " 'conv2d_8',\n",
       " 'max_pooling2d_4',\n",
       " 'conv2d_9',\n",
       " 'dropout_5',\n",
       " 'conv2d_10',\n",
       " 'conv2d_transpose_1',\n",
       " 'concatenate_1',\n",
       " 'conv2d_11',\n",
       " 'dropout_6',\n",
       " 'conv2d_12',\n",
       " 'conv2d_transpose_2',\n",
       " 'concatenate_2',\n",
       " 'conv2d_13',\n",
       " 'dropout_7',\n",
       " 'conv2d_14',\n",
       " 'conv2d_transpose_3',\n",
       " 'concatenate_3',\n",
       " 'conv2d_15',\n",
       " 'dropout_8',\n",
       " 'conv2d_16',\n",
       " 'conv2d_transpose_4',\n",
       " 'concatenate_4',\n",
       " 'conv2d_17',\n",
       " 'dropout_9',\n",
       " 'conv2d_18',\n",
       " 'conv2d_19']"
      ]
     },
     "execution_count": 22,
     "metadata": {},
     "output_type": "execute_result"
    }
   ],
   "source": [
    "layer_dict = dict([(layer.name, layer) for layer in model.layers])\n",
    "[layer.name for layer in model.layers]"
   ]
  },
  {
   "cell_type": "code",
   "execution_count": 47,
   "metadata": {},
   "outputs": [
    {
     "ename": "IndexError",
     "evalue": "list index out of range",
     "output_type": "error",
     "traceback": [
      "\u001b[0;31m---------------------------------------------------------------------------\u001b[0m",
      "\u001b[0;31mIndexError\u001b[0m                                Traceback (most recent call last)",
      "\u001b[0;32m<ipython-input-47-691a5d8c4963>\u001b[0m in \u001b[0;36m<module>\u001b[0;34m()\u001b[0m\n\u001b[0;32m----> 1\u001b[0;31m \u001b[0mx\u001b[0m \u001b[0;34m=\u001b[0m \u001b[0mmodel\u001b[0m\u001b[0;34m.\u001b[0m\u001b[0mlayers\u001b[0m\u001b[0;34m[\u001b[0m\u001b[0;36m41\u001b[0m\u001b[0;34m]\u001b[0m\u001b[0;34m\u001b[0m\u001b[0m\n\u001b[0m",
      "\u001b[0;31mIndexError\u001b[0m: list index out of range"
     ]
    }
   ],
   "source": [
    "x = model.layers[41]"
   ]
  },
  {
   "cell_type": "code",
   "execution_count": 51,
   "metadata": {
    "collapsed": true
   },
   "outputs": [],
   "source": [
    "x = layer_dict['conv2d_18']"
   ]
  },
  {
   "cell_type": "code",
   "execution_count": null,
   "metadata": {
    "collapsed": true
   },
   "outputs": [],
   "source": [
    "xx = model.get_layer('conv2d_18').output"
   ]
  },
  {
   "cell_type": "code",
   "execution_count": 64,
   "metadata": {},
   "outputs": [
    {
     "data": {
      "text/plain": [
       "<tf.Tensor 'conv2d_18_2/Elu:0' shape=(?, 128, 128, 16) dtype=float32>"
      ]
     },
     "execution_count": 64,
     "metadata": {},
     "output_type": "execute_result"
    }
   ],
   "source": [
    "x.output"
   ]
  },
  {
   "cell_type": "code",
   "execution_count": 62,
   "metadata": {},
   "outputs": [
    {
     "data": {
      "text/plain": [
       "<tf.Tensor 'conv2d_18_3/Elu:0' shape=(?, 128, 128, 16) dtype=float32>"
      ]
     },
     "execution_count": 62,
     "metadata": {},
     "output_type": "execute_result"
    }
   ],
   "source": [
    "xx"
   ]
  },
  {
   "cell_type": "code",
   "execution_count": 65,
   "metadata": {
    "collapsed": true
   },
   "outputs": [],
   "source": [
    "new_baseMod = Model(model.input, xx)"
   ]
  },
  {
   "cell_type": "code",
   "execution_count": 66,
   "metadata": {},
   "outputs": [
    {
     "name": "stdout",
     "output_type": "stream",
     "text": [
      "__________________________________________________________________________________________________\n",
      "Layer (type)                    Output Shape         Param #     Connected to                     \n",
      "==================================================================================================\n",
      "input_1 (InputLayer)            (None, 128, 128, 3)  0                                            \n",
      "__________________________________________________________________________________________________\n",
      "lambda_1 (Lambda)               (None, 128, 128, 3)  0           input_1[0][0]                    \n",
      "__________________________________________________________________________________________________\n",
      "conv2d_1 (Conv2D)               (None, 128, 128, 16) 448         lambda_1[0][0]                   \n",
      "__________________________________________________________________________________________________\n",
      "dropout_1 (Dropout)             (None, 128, 128, 16) 0           conv2d_1[0][0]                   \n",
      "__________________________________________________________________________________________________\n",
      "conv2d_2 (Conv2D)               (None, 128, 128, 16) 2320        dropout_1[0][0]                  \n",
      "__________________________________________________________________________________________________\n",
      "max_pooling2d_1 (MaxPooling2D)  (None, 64, 64, 16)   0           conv2d_2[0][0]                   \n",
      "__________________________________________________________________________________________________\n",
      "conv2d_3 (Conv2D)               (None, 64, 64, 32)   4640        max_pooling2d_1[0][0]            \n",
      "__________________________________________________________________________________________________\n",
      "dropout_2 (Dropout)             (None, 64, 64, 32)   0           conv2d_3[0][0]                   \n",
      "__________________________________________________________________________________________________\n",
      "conv2d_4 (Conv2D)               (None, 64, 64, 32)   9248        dropout_2[0][0]                  \n",
      "__________________________________________________________________________________________________\n",
      "max_pooling2d_2 (MaxPooling2D)  (None, 32, 32, 32)   0           conv2d_4[0][0]                   \n",
      "__________________________________________________________________________________________________\n",
      "conv2d_5 (Conv2D)               (None, 32, 32, 64)   18496       max_pooling2d_2[0][0]            \n",
      "__________________________________________________________________________________________________\n",
      "dropout_3 (Dropout)             (None, 32, 32, 64)   0           conv2d_5[0][0]                   \n",
      "__________________________________________________________________________________________________\n",
      "conv2d_6 (Conv2D)               (None, 32, 32, 64)   36928       dropout_3[0][0]                  \n",
      "__________________________________________________________________________________________________\n",
      "max_pooling2d_3 (MaxPooling2D)  (None, 16, 16, 64)   0           conv2d_6[0][0]                   \n",
      "__________________________________________________________________________________________________\n",
      "conv2d_7 (Conv2D)               (None, 16, 16, 128)  73856       max_pooling2d_3[0][0]            \n",
      "__________________________________________________________________________________________________\n",
      "dropout_4 (Dropout)             (None, 16, 16, 128)  0           conv2d_7[0][0]                   \n",
      "__________________________________________________________________________________________________\n",
      "conv2d_8 (Conv2D)               (None, 16, 16, 128)  147584      dropout_4[0][0]                  \n",
      "__________________________________________________________________________________________________\n",
      "max_pooling2d_4 (MaxPooling2D)  (None, 8, 8, 128)    0           conv2d_8[0][0]                   \n",
      "__________________________________________________________________________________________________\n",
      "conv2d_9 (Conv2D)               (None, 8, 8, 256)    295168      max_pooling2d_4[0][0]            \n",
      "__________________________________________________________________________________________________\n",
      "dropout_5 (Dropout)             (None, 8, 8, 256)    0           conv2d_9[0][0]                   \n",
      "__________________________________________________________________________________________________\n",
      "conv2d_10 (Conv2D)              (None, 8, 8, 256)    590080      dropout_5[0][0]                  \n",
      "__________________________________________________________________________________________________\n",
      "conv2d_transpose_1 (Conv2DTrans (None, 16, 16, 128)  131200      conv2d_10[0][0]                  \n",
      "__________________________________________________________________________________________________\n",
      "concatenate_1 (Concatenate)     (None, 16, 16, 256)  0           conv2d_transpose_1[0][0]         \n",
      "                                                                 conv2d_8[0][0]                   \n",
      "__________________________________________________________________________________________________\n",
      "conv2d_11 (Conv2D)              (None, 16, 16, 128)  295040      concatenate_1[0][0]              \n",
      "__________________________________________________________________________________________________\n",
      "dropout_6 (Dropout)             (None, 16, 16, 128)  0           conv2d_11[0][0]                  \n",
      "__________________________________________________________________________________________________\n",
      "conv2d_12 (Conv2D)              (None, 16, 16, 128)  147584      dropout_6[0][0]                  \n",
      "__________________________________________________________________________________________________\n",
      "conv2d_transpose_2 (Conv2DTrans (None, 32, 32, 64)   32832       conv2d_12[0][0]                  \n",
      "__________________________________________________________________________________________________\n",
      "concatenate_2 (Concatenate)     (None, 32, 32, 128)  0           conv2d_transpose_2[0][0]         \n",
      "                                                                 conv2d_6[0][0]                   \n",
      "__________________________________________________________________________________________________\n",
      "conv2d_13 (Conv2D)              (None, 32, 32, 64)   73792       concatenate_2[0][0]              \n",
      "__________________________________________________________________________________________________\n",
      "dropout_7 (Dropout)             (None, 32, 32, 64)   0           conv2d_13[0][0]                  \n",
      "__________________________________________________________________________________________________\n",
      "conv2d_14 (Conv2D)              (None, 32, 32, 64)   36928       dropout_7[0][0]                  \n",
      "__________________________________________________________________________________________________\n",
      "conv2d_transpose_3 (Conv2DTrans (None, 64, 64, 32)   8224        conv2d_14[0][0]                  \n",
      "__________________________________________________________________________________________________\n",
      "concatenate_3 (Concatenate)     (None, 64, 64, 64)   0           conv2d_transpose_3[0][0]         \n",
      "                                                                 conv2d_4[0][0]                   \n",
      "__________________________________________________________________________________________________\n",
      "conv2d_15 (Conv2D)              (None, 64, 64, 32)   18464       concatenate_3[0][0]              \n",
      "__________________________________________________________________________________________________\n",
      "dropout_8 (Dropout)             (None, 64, 64, 32)   0           conv2d_15[0][0]                  \n",
      "__________________________________________________________________________________________________\n",
      "conv2d_16 (Conv2D)              (None, 64, 64, 32)   9248        dropout_8[0][0]                  \n",
      "__________________________________________________________________________________________________\n",
      "conv2d_transpose_4 (Conv2DTrans (None, 128, 128, 16) 2064        conv2d_16[0][0]                  \n",
      "__________________________________________________________________________________________________\n",
      "concatenate_4 (Concatenate)     (None, 128, 128, 32) 0           conv2d_transpose_4[0][0]         \n",
      "                                                                 conv2d_2[0][0]                   \n",
      "__________________________________________________________________________________________________\n",
      "conv2d_17 (Conv2D)              (None, 128, 128, 16) 4624        concatenate_4[0][0]              \n",
      "__________________________________________________________________________________________________\n",
      "dropout_9 (Dropout)             (None, 128, 128, 16) 0           conv2d_17[0][0]                  \n",
      "__________________________________________________________________________________________________\n",
      "conv2d_18 (Conv2D)              (None, 128, 128, 16) 2320        dropout_9[0][0]                  \n",
      "==================================================================================================\n",
      "Total params: 1,941,088\n",
      "Trainable params: 1,941,088\n",
      "Non-trainable params: 0\n",
      "__________________________________________________________________________________________________\n"
     ]
    }
   ],
   "source": [
    "new_baseMod.summary()"
   ]
  },
  {
   "cell_type": "code",
   "execution_count": 68,
   "metadata": {
    "collapsed": true
   },
   "outputs": [],
   "source": [
    "yy = model.get_layer('conv2d_19') (xx)"
   ]
  },
  {
   "cell_type": "code",
   "execution_count": 69,
   "metadata": {
    "collapsed": true
   },
   "outputs": [],
   "source": [
    "new_model = Model(model.input, yy)"
   ]
  },
  {
   "cell_type": "code",
   "execution_count": 71,
   "metadata": {},
   "outputs": [
    {
     "name": "stdout",
     "output_type": "stream",
     "text": [
      "__________________________________________________________________________________________________\n",
      "Layer (type)                    Output Shape         Param #     Connected to                     \n",
      "==================================================================================================\n",
      "input_1 (InputLayer)            (None, 128, 128, 3)  0                                            \n",
      "__________________________________________________________________________________________________\n",
      "lambda_1 (Lambda)               (None, 128, 128, 3)  0           input_1[0][0]                    \n",
      "__________________________________________________________________________________________________\n",
      "conv2d_1 (Conv2D)               (None, 128, 128, 16) 448         lambda_1[0][0]                   \n",
      "__________________________________________________________________________________________________\n",
      "dropout_1 (Dropout)             (None, 128, 128, 16) 0           conv2d_1[0][0]                   \n",
      "__________________________________________________________________________________________________\n",
      "conv2d_2 (Conv2D)               (None, 128, 128, 16) 2320        dropout_1[0][0]                  \n",
      "__________________________________________________________________________________________________\n",
      "max_pooling2d_1 (MaxPooling2D)  (None, 64, 64, 16)   0           conv2d_2[0][0]                   \n",
      "__________________________________________________________________________________________________\n",
      "conv2d_3 (Conv2D)               (None, 64, 64, 32)   4640        max_pooling2d_1[0][0]            \n",
      "__________________________________________________________________________________________________\n",
      "dropout_2 (Dropout)             (None, 64, 64, 32)   0           conv2d_3[0][0]                   \n",
      "__________________________________________________________________________________________________\n",
      "conv2d_4 (Conv2D)               (None, 64, 64, 32)   9248        dropout_2[0][0]                  \n",
      "__________________________________________________________________________________________________\n",
      "max_pooling2d_2 (MaxPooling2D)  (None, 32, 32, 32)   0           conv2d_4[0][0]                   \n",
      "__________________________________________________________________________________________________\n",
      "conv2d_5 (Conv2D)               (None, 32, 32, 64)   18496       max_pooling2d_2[0][0]            \n",
      "__________________________________________________________________________________________________\n",
      "dropout_3 (Dropout)             (None, 32, 32, 64)   0           conv2d_5[0][0]                   \n",
      "__________________________________________________________________________________________________\n",
      "conv2d_6 (Conv2D)               (None, 32, 32, 64)   36928       dropout_3[0][0]                  \n",
      "__________________________________________________________________________________________________\n",
      "max_pooling2d_3 (MaxPooling2D)  (None, 16, 16, 64)   0           conv2d_6[0][0]                   \n",
      "__________________________________________________________________________________________________\n",
      "conv2d_7 (Conv2D)               (None, 16, 16, 128)  73856       max_pooling2d_3[0][0]            \n",
      "__________________________________________________________________________________________________\n",
      "dropout_4 (Dropout)             (None, 16, 16, 128)  0           conv2d_7[0][0]                   \n",
      "__________________________________________________________________________________________________\n",
      "conv2d_8 (Conv2D)               (None, 16, 16, 128)  147584      dropout_4[0][0]                  \n",
      "__________________________________________________________________________________________________\n",
      "max_pooling2d_4 (MaxPooling2D)  (None, 8, 8, 128)    0           conv2d_8[0][0]                   \n",
      "__________________________________________________________________________________________________\n",
      "conv2d_9 (Conv2D)               (None, 8, 8, 256)    295168      max_pooling2d_4[0][0]            \n",
      "__________________________________________________________________________________________________\n",
      "dropout_5 (Dropout)             (None, 8, 8, 256)    0           conv2d_9[0][0]                   \n",
      "__________________________________________________________________________________________________\n",
      "conv2d_10 (Conv2D)              (None, 8, 8, 256)    590080      dropout_5[0][0]                  \n",
      "__________________________________________________________________________________________________\n",
      "conv2d_transpose_1 (Conv2DTrans (None, 16, 16, 128)  131200      conv2d_10[0][0]                  \n",
      "__________________________________________________________________________________________________\n",
      "concatenate_1 (Concatenate)     (None, 16, 16, 256)  0           conv2d_transpose_1[0][0]         \n",
      "                                                                 conv2d_8[0][0]                   \n",
      "__________________________________________________________________________________________________\n",
      "conv2d_11 (Conv2D)              (None, 16, 16, 128)  295040      concatenate_1[0][0]              \n",
      "__________________________________________________________________________________________________\n",
      "dropout_6 (Dropout)             (None, 16, 16, 128)  0           conv2d_11[0][0]                  \n",
      "__________________________________________________________________________________________________\n",
      "conv2d_12 (Conv2D)              (None, 16, 16, 128)  147584      dropout_6[0][0]                  \n",
      "__________________________________________________________________________________________________\n",
      "conv2d_transpose_2 (Conv2DTrans (None, 32, 32, 64)   32832       conv2d_12[0][0]                  \n",
      "__________________________________________________________________________________________________\n",
      "concatenate_2 (Concatenate)     (None, 32, 32, 128)  0           conv2d_transpose_2[0][0]         \n",
      "                                                                 conv2d_6[0][0]                   \n",
      "__________________________________________________________________________________________________\n",
      "conv2d_13 (Conv2D)              (None, 32, 32, 64)   73792       concatenate_2[0][0]              \n",
      "__________________________________________________________________________________________________\n",
      "dropout_7 (Dropout)             (None, 32, 32, 64)   0           conv2d_13[0][0]                  \n",
      "__________________________________________________________________________________________________\n",
      "conv2d_14 (Conv2D)              (None, 32, 32, 64)   36928       dropout_7[0][0]                  \n",
      "__________________________________________________________________________________________________\n",
      "conv2d_transpose_3 (Conv2DTrans (None, 64, 64, 32)   8224        conv2d_14[0][0]                  \n",
      "__________________________________________________________________________________________________\n",
      "concatenate_3 (Concatenate)     (None, 64, 64, 64)   0           conv2d_transpose_3[0][0]         \n",
      "                                                                 conv2d_4[0][0]                   \n",
      "__________________________________________________________________________________________________\n",
      "conv2d_15 (Conv2D)              (None, 64, 64, 32)   18464       concatenate_3[0][0]              \n",
      "__________________________________________________________________________________________________\n",
      "dropout_8 (Dropout)             (None, 64, 64, 32)   0           conv2d_15[0][0]                  \n",
      "__________________________________________________________________________________________________\n",
      "conv2d_16 (Conv2D)              (None, 64, 64, 32)   9248        dropout_8[0][0]                  \n",
      "__________________________________________________________________________________________________\n",
      "conv2d_transpose_4 (Conv2DTrans (None, 128, 128, 16) 2064        conv2d_16[0][0]                  \n",
      "__________________________________________________________________________________________________\n",
      "concatenate_4 (Concatenate)     (None, 128, 128, 32) 0           conv2d_transpose_4[0][0]         \n",
      "                                                                 conv2d_2[0][0]                   \n",
      "__________________________________________________________________________________________________\n",
      "conv2d_17 (Conv2D)              (None, 128, 128, 16) 4624        concatenate_4[0][0]              \n",
      "__________________________________________________________________________________________________\n",
      "dropout_9 (Dropout)             (None, 128, 128, 16) 0           conv2d_17[0][0]                  \n",
      "__________________________________________________________________________________________________\n",
      "conv2d_18 (Conv2D)              (None, 128, 128, 16) 2320        dropout_9[0][0]                  \n",
      "__________________________________________________________________________________________________\n",
      "conv2d_19 (Conv2D)              (None, 128, 128, 1)  17          conv2d_18[0][0]                  \n",
      "==================================================================================================\n",
      "Total params: 1,941,105\n",
      "Trainable params: 1,941,105\n",
      "Non-trainable params: 0\n",
      "__________________________________________________________________________________________________\n"
     ]
    }
   ],
   "source": [
    "new_model.summary()"
   ]
  },
  {
   "cell_type": "code",
   "execution_count": 72,
   "metadata": {},
   "outputs": [
    {
     "name": "stdout",
     "output_type": "stream",
     "text": [
      "\r",
      "1/1 [==============================] - 0s 327ms/step\n"
     ]
    },
    {
     "data": {
      "image/png": "[encoded data removed]",
      "text/plain": [
       "<matplotlib.figure.Figure at 0x7f04a2cec898>"
      ]
     },
     "metadata": {},
     "output_type": "display_data"
    }
   ],
   "source": [
    "preds_test = new_model.predict(X_test[0:1,:,:,:], verbose=1)\n",
    "imshow(np.squeeze(preds_test))\n",
    "plt.show()"
   ]
  },
  {
   "cell_type": "code",
   "execution_count": null,
   "metadata": {
    "collapsed": true
   },
   "outputs": [],
   "source": []
  }
 ],
 "metadata": {
  "kernelspec": {
   "display_name": "Python [default]",
   "language": "python",
   "name": "python3"
  },
  "language_info": {
   "codemirror_mode": {
    "name": "ipython",
    "version": 3
   },
   "file_extension": ".py",
   "mimetype": "text/x-python",
   "name": "python",
   "nbconvert_exporter": "python",
   "pygments_lexer": "ipython3",
   "version": "3.5.2"
  }
 },
 "nbformat": 4,
 "nbformat_minor": 1
}
